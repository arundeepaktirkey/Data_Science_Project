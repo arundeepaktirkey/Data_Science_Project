{
 "cells": [
  {
   "cell_type": "markdown",
   "metadata": {},
   "source": [
    "# Using RNN/LSTM to predict Stock Prices\n",
    "\n",
    "Long Short Term Memory(LSTM) Networks are a special type of Recurrent Neural Networks(RNN) which improves the learning of data based on the concept of short term memory. Based on the last 'n' values, predict the next value. "
   ]
  },
  {
   "cell_type": "code",
   "execution_count": 40,
   "metadata": {},
   "outputs": [],
   "source": [
    "import pandas as pd\n",
    "import numpy as np\n",
    "\n",
    "# To remove the scientific notation from numpy arrays\n",
    "np.set_printoptions(suppress=True)"
   ]
  },
  {
   "cell_type": "code",
   "execution_count": 3,
   "metadata": {},
   "outputs": [],
   "source": [
    "# install the nsepy library to get stock prices\n",
    "# !pip install nsepy"
   ]
  },
  {
   "cell_type": "code",
   "execution_count": 41,
   "metadata": {
    "scrolled": true
   },
   "outputs": [
    {
     "name": "stdout",
     "output_type": "stream",
     "text": [
      "(371, 14)\n"
     ]
    },
    {
     "data": {
      "text/html": [
       "<div>\n",
       "<style scoped>\n",
       "    .dataframe tbody tr th:only-of-type {\n",
       "        vertical-align: middle;\n",
       "    }\n",
       "\n",
       "    .dataframe tbody tr th {\n",
       "        vertical-align: top;\n",
       "    }\n",
       "\n",
       "    .dataframe thead th {\n",
       "        text-align: right;\n",
       "    }\n",
       "</style>\n",
       "<table border=\"1\" class=\"dataframe\">\n",
       "  <thead>\n",
       "    <tr style=\"text-align: right;\">\n",
       "      <th></th>\n",
       "      <th>Symbol</th>\n",
       "      <th>Series</th>\n",
       "      <th>Prev Close</th>\n",
       "      <th>Open</th>\n",
       "      <th>High</th>\n",
       "      <th>Low</th>\n",
       "      <th>Last</th>\n",
       "      <th>Close</th>\n",
       "      <th>VWAP</th>\n",
       "      <th>Volume</th>\n",
       "      <th>Turnover</th>\n",
       "      <th>Trades</th>\n",
       "      <th>Deliverable Volume</th>\n",
       "      <th>%Deliverble</th>\n",
       "    </tr>\n",
       "    <tr>\n",
       "      <th>Date</th>\n",
       "      <th></th>\n",
       "      <th></th>\n",
       "      <th></th>\n",
       "      <th></th>\n",
       "      <th></th>\n",
       "      <th></th>\n",
       "      <th></th>\n",
       "      <th></th>\n",
       "      <th></th>\n",
       "      <th></th>\n",
       "      <th></th>\n",
       "      <th></th>\n",
       "      <th></th>\n",
       "      <th></th>\n",
       "    </tr>\n",
       "  </thead>\n",
       "  <tbody>\n",
       "    <tr>\n",
       "      <th>2019-01-01</th>\n",
       "      <td>INFY</td>\n",
       "      <td>EQ</td>\n",
       "      <td>658.95</td>\n",
       "      <td>660.95</td>\n",
       "      <td>666.3</td>\n",
       "      <td>654.15</td>\n",
       "      <td>665.95</td>\n",
       "      <td>665.05</td>\n",
       "      <td>660.66</td>\n",
       "      <td>2943390</td>\n",
       "      <td>1.944579e+14</td>\n",
       "      <td>45422</td>\n",
       "      <td>1282161</td>\n",
       "      <td>0.4356</td>\n",
       "    </tr>\n",
       "    <tr>\n",
       "      <th>2019-01-02</th>\n",
       "      <td>INFY</td>\n",
       "      <td>EQ</td>\n",
       "      <td>665.05</td>\n",
       "      <td>666.00</td>\n",
       "      <td>674.0</td>\n",
       "      <td>662.05</td>\n",
       "      <td>668.00</td>\n",
       "      <td>669.05</td>\n",
       "      <td>669.97</td>\n",
       "      <td>7416655</td>\n",
       "      <td>4.968963e+14</td>\n",
       "      <td>108094</td>\n",
       "      <td>3880800</td>\n",
       "      <td>0.5233</td>\n",
       "    </tr>\n",
       "    <tr>\n",
       "      <th>2019-01-03</th>\n",
       "      <td>INFY</td>\n",
       "      <td>EQ</td>\n",
       "      <td>669.05</td>\n",
       "      <td>672.00</td>\n",
       "      <td>677.0</td>\n",
       "      <td>663.10</td>\n",
       "      <td>668.00</td>\n",
       "      <td>669.15</td>\n",
       "      <td>669.66</td>\n",
       "      <td>6827249</td>\n",
       "      <td>4.571929e+14</td>\n",
       "      <td>125781</td>\n",
       "      <td>3676359</td>\n",
       "      <td>0.5385</td>\n",
       "    </tr>\n",
       "    <tr>\n",
       "      <th>2019-01-04</th>\n",
       "      <td>INFY</td>\n",
       "      <td>EQ</td>\n",
       "      <td>669.15</td>\n",
       "      <td>671.75</td>\n",
       "      <td>673.9</td>\n",
       "      <td>651.00</td>\n",
       "      <td>660.25</td>\n",
       "      <td>661.05</td>\n",
       "      <td>660.17</td>\n",
       "      <td>7889310</td>\n",
       "      <td>5.208305e+14</td>\n",
       "      <td>187590</td>\n",
       "      <td>3747741</td>\n",
       "      <td>0.4750</td>\n",
       "    </tr>\n",
       "    <tr>\n",
       "      <th>2019-01-07</th>\n",
       "      <td>INFY</td>\n",
       "      <td>EQ</td>\n",
       "      <td>661.05</td>\n",
       "      <td>665.00</td>\n",
       "      <td>673.6</td>\n",
       "      <td>661.50</td>\n",
       "      <td>671.70</td>\n",
       "      <td>671.70</td>\n",
       "      <td>667.51</td>\n",
       "      <td>8046340</td>\n",
       "      <td>5.370974e+14</td>\n",
       "      <td>132736</td>\n",
       "      <td>4711672</td>\n",
       "      <td>0.5856</td>\n",
       "    </tr>\n",
       "  </tbody>\n",
       "</table>\n",
       "</div>"
      ],
      "text/plain": [
       "           Symbol Series  Prev Close    Open   High     Low    Last   Close  \\\n",
       "Date                                                                          \n",
       "2019-01-01   INFY     EQ      658.95  660.95  666.3  654.15  665.95  665.05   \n",
       "2019-01-02   INFY     EQ      665.05  666.00  674.0  662.05  668.00  669.05   \n",
       "2019-01-03   INFY     EQ      669.05  672.00  677.0  663.10  668.00  669.15   \n",
       "2019-01-04   INFY     EQ      669.15  671.75  673.9  651.00  660.25  661.05   \n",
       "2019-01-07   INFY     EQ      661.05  665.00  673.6  661.50  671.70  671.70   \n",
       "\n",
       "              VWAP   Volume      Turnover  Trades  Deliverable Volume  \\\n",
       "Date                                                                    \n",
       "2019-01-01  660.66  2943390  1.944579e+14   45422             1282161   \n",
       "2019-01-02  669.97  7416655  4.968963e+14  108094             3880800   \n",
       "2019-01-03  669.66  6827249  4.571929e+14  125781             3676359   \n",
       "2019-01-04  660.17  7889310  5.208305e+14  187590             3747741   \n",
       "2019-01-07  667.51  8046340  5.370974e+14  132736             4711672   \n",
       "\n",
       "            %Deliverble  \n",
       "Date                     \n",
       "2019-01-01       0.4356  \n",
       "2019-01-02       0.5233  \n",
       "2019-01-03       0.5385  \n",
       "2019-01-04       0.4750  \n",
       "2019-01-07       0.5856  "
      ]
     },
     "execution_count": 41,
     "metadata": {},
     "output_type": "execute_result"
    }
   ],
   "source": [
    "# Getting Stock data using nsepy library\n",
    "from nsepy import get_history\n",
    "from datetime import datetime\n",
    "\n",
    "startDate=datetime(2019, 1,1)\n",
    "endDate=datetime(2020, 7, 5)\n",
    "\n",
    "# Fetching the data\n",
    "StockData=get_history(symbol='INFY', start=startDate, end=endDate)\n",
    "print(StockData.shape)\n",
    "StockData.head()"
   ]
  },
  {
   "cell_type": "code",
   "execution_count": 42,
   "metadata": {},
   "outputs": [
    {
     "data": {
      "text/html": [
       "<div>\n",
       "<style scoped>\n",
       "    .dataframe tbody tr th:only-of-type {\n",
       "        vertical-align: middle;\n",
       "    }\n",
       "\n",
       "    .dataframe tbody tr th {\n",
       "        vertical-align: top;\n",
       "    }\n",
       "\n",
       "    .dataframe thead th {\n",
       "        text-align: right;\n",
       "    }\n",
       "</style>\n",
       "<table border=\"1\" class=\"dataframe\">\n",
       "  <thead>\n",
       "    <tr style=\"text-align: right;\">\n",
       "      <th></th>\n",
       "      <th>Symbol</th>\n",
       "      <th>Series</th>\n",
       "      <th>Prev Close</th>\n",
       "      <th>Open</th>\n",
       "      <th>High</th>\n",
       "      <th>Low</th>\n",
       "      <th>Last</th>\n",
       "      <th>Close</th>\n",
       "      <th>VWAP</th>\n",
       "      <th>Volume</th>\n",
       "      <th>Turnover</th>\n",
       "      <th>Trades</th>\n",
       "      <th>Deliverable Volume</th>\n",
       "      <th>%Deliverble</th>\n",
       "      <th>TradeDate</th>\n",
       "    </tr>\n",
       "    <tr>\n",
       "      <th>Date</th>\n",
       "      <th></th>\n",
       "      <th></th>\n",
       "      <th></th>\n",
       "      <th></th>\n",
       "      <th></th>\n",
       "      <th></th>\n",
       "      <th></th>\n",
       "      <th></th>\n",
       "      <th></th>\n",
       "      <th></th>\n",
       "      <th></th>\n",
       "      <th></th>\n",
       "      <th></th>\n",
       "      <th></th>\n",
       "      <th></th>\n",
       "    </tr>\n",
       "  </thead>\n",
       "  <tbody>\n",
       "    <tr>\n",
       "      <th>2020-06-29</th>\n",
       "      <td>INFY</td>\n",
       "      <td>EQ</td>\n",
       "      <td>748.20</td>\n",
       "      <td>735.40</td>\n",
       "      <td>744.70</td>\n",
       "      <td>730.10</td>\n",
       "      <td>731.40</td>\n",
       "      <td>731.75</td>\n",
       "      <td>735.05</td>\n",
       "      <td>8954490</td>\n",
       "      <td>6.582025e+14</td>\n",
       "      <td>128524</td>\n",
       "      <td>3107259</td>\n",
       "      <td>0.3470</td>\n",
       "      <td>2020-06-29</td>\n",
       "    </tr>\n",
       "    <tr>\n",
       "      <th>2020-06-30</th>\n",
       "      <td>INFY</td>\n",
       "      <td>EQ</td>\n",
       "      <td>731.75</td>\n",
       "      <td>732.80</td>\n",
       "      <td>738.95</td>\n",
       "      <td>724.25</td>\n",
       "      <td>733.70</td>\n",
       "      <td>735.95</td>\n",
       "      <td>733.74</td>\n",
       "      <td>10411347</td>\n",
       "      <td>7.639234e+14</td>\n",
       "      <td>140340</td>\n",
       "      <td>4686949</td>\n",
       "      <td>0.4502</td>\n",
       "      <td>2020-06-30</td>\n",
       "    </tr>\n",
       "    <tr>\n",
       "      <th>2020-07-01</th>\n",
       "      <td>INFY</td>\n",
       "      <td>EQ</td>\n",
       "      <td>735.95</td>\n",
       "      <td>737.25</td>\n",
       "      <td>742.30</td>\n",
       "      <td>729.75</td>\n",
       "      <td>730.85</td>\n",
       "      <td>731.90</td>\n",
       "      <td>736.05</td>\n",
       "      <td>5477687</td>\n",
       "      <td>4.031837e+14</td>\n",
       "      <td>101474</td>\n",
       "      <td>2540508</td>\n",
       "      <td>0.4638</td>\n",
       "      <td>2020-07-01</td>\n",
       "    </tr>\n",
       "    <tr>\n",
       "      <th>2020-07-02</th>\n",
       "      <td>INFY</td>\n",
       "      <td>EQ</td>\n",
       "      <td>731.90</td>\n",
       "      <td>737.35</td>\n",
       "      <td>765.45</td>\n",
       "      <td>735.40</td>\n",
       "      <td>756.00</td>\n",
       "      <td>756.60</td>\n",
       "      <td>756.33</td>\n",
       "      <td>17263764</td>\n",
       "      <td>1.305714e+15</td>\n",
       "      <td>207044</td>\n",
       "      <td>7512460</td>\n",
       "      <td>0.4352</td>\n",
       "      <td>2020-07-02</td>\n",
       "    </tr>\n",
       "    <tr>\n",
       "      <th>2020-07-03</th>\n",
       "      <td>INFY</td>\n",
       "      <td>EQ</td>\n",
       "      <td>756.60</td>\n",
       "      <td>755.00</td>\n",
       "      <td>764.00</td>\n",
       "      <td>752.50</td>\n",
       "      <td>762.15</td>\n",
       "      <td>762.70</td>\n",
       "      <td>759.35</td>\n",
       "      <td>7796573</td>\n",
       "      <td>5.920349e+14</td>\n",
       "      <td>148320</td>\n",
       "      <td>3290825</td>\n",
       "      <td>0.4221</td>\n",
       "      <td>2020-07-03</td>\n",
       "    </tr>\n",
       "  </tbody>\n",
       "</table>\n",
       "</div>"
      ],
      "text/plain": [
       "           Symbol Series  Prev Close    Open    High     Low    Last   Close  \\\n",
       "Date                                                                           \n",
       "2020-06-29   INFY     EQ      748.20  735.40  744.70  730.10  731.40  731.75   \n",
       "2020-06-30   INFY     EQ      731.75  732.80  738.95  724.25  733.70  735.95   \n",
       "2020-07-01   INFY     EQ      735.95  737.25  742.30  729.75  730.85  731.90   \n",
       "2020-07-02   INFY     EQ      731.90  737.35  765.45  735.40  756.00  756.60   \n",
       "2020-07-03   INFY     EQ      756.60  755.00  764.00  752.50  762.15  762.70   \n",
       "\n",
       "              VWAP    Volume      Turnover  Trades  Deliverable Volume  \\\n",
       "Date                                                                     \n",
       "2020-06-29  735.05   8954490  6.582025e+14  128524             3107259   \n",
       "2020-06-30  733.74  10411347  7.639234e+14  140340             4686949   \n",
       "2020-07-01  736.05   5477687  4.031837e+14  101474             2540508   \n",
       "2020-07-02  756.33  17263764  1.305714e+15  207044             7512460   \n",
       "2020-07-03  759.35   7796573  5.920349e+14  148320             3290825   \n",
       "\n",
       "            %Deliverble   TradeDate  \n",
       "Date                                 \n",
       "2020-06-29       0.3470  2020-06-29  \n",
       "2020-06-30       0.4502  2020-06-30  \n",
       "2020-07-01       0.4638  2020-07-01  \n",
       "2020-07-02       0.4352  2020-07-02  \n",
       "2020-07-03       0.4221  2020-07-03  "
      ]
     },
     "execution_count": 42,
     "metadata": {},
     "output_type": "execute_result"
    }
   ],
   "source": [
    "# Creating a column as date\n",
    "StockData['TradeDate']=StockData.index\n",
    "StockData.tail()"
   ]
  },
  {
   "cell_type": "markdown",
   "metadata": {},
   "source": [
    "### Plotting the closing  prices of stock"
   ]
  },
  {
   "cell_type": "code",
   "execution_count": 43,
   "metadata": {},
   "outputs": [
    {
     "data": {
      "text/plain": [
       "<AxesSubplot:xlabel='TradeDate'>"
      ]
     },
     "execution_count": 43,
     "metadata": {},
     "output_type": "execute_result"
    },
    {
     "data": {
      "image/png": "[encoded data removed]",
      "text/plain": [
       "<Figure size 1440x432 with 1 Axes>"
      ]
     },
     "metadata": {
      "needs_background": "light"
     },
     "output_type": "display_data"
    }
   ],
   "source": [
    "%matplotlib inline\n",
    "StockData.plot(x='TradeDate', y='Close', kind='line', figsize=(20,6), rot=20)"
   ]
  },
  {
   "cell_type": "markdown",
   "metadata": {},
   "source": [
    "### Preparing the data"
   ]
  },
  {
   "cell_type": "code",
   "execution_count": 44,
   "metadata": {},
   "outputs": [
    {
     "data": {
      "text/plain": [
       "array([[665.05],\n",
       "       [669.05],\n",
       "       [669.15],\n",
       "       [661.05],\n",
       "       [671.7 ],\n",
       "       [670.05],\n",
       "       [676.1 ],\n",
       "       [679.7 ],\n",
       "       [683.5 ],\n",
       "       [701.9 ],\n",
       "       [726.6 ],\n",
       "       [736.8 ],\n",
       "       [733.35],\n",
       "       [730.95],\n",
       "       [745.  ],\n",
       "       [745.35],\n",
       "       [731.65],\n",
       "       [732.  ],\n",
       "       [730.35],\n",
       "       [727.95]])"
      ]
     },
     "execution_count": 44,
     "metadata": {},
     "output_type": "execute_result"
    }
   ],
   "source": [
    "FullData=StockData[['Close']].values\n",
    "FullData[0:20]"
   ]
  },
  {
   "cell_type": "code",
   "execution_count": null,
   "metadata": {},
   "outputs": [],
   "source": []
  },
  {
   "cell_type": "markdown",
   "metadata": {},
   "source": [
    "### Feature Scaling for fast training"
   ]
  },
  {
   "cell_type": "code",
   "execution_count": 45,
   "metadata": {},
   "outputs": [
    {
     "data": {
      "text/plain": [
       "array([[0.4418234 ],\n",
       "       [0.45457443],\n",
       "       [0.45489321],\n",
       "       [0.42907236],\n",
       "       [0.463022  ]])"
      ]
     },
     "execution_count": 45,
     "metadata": {},
     "output_type": "execute_result"
    }
   ],
   "source": [
    "# Feature Scaling for fast training of neural networks\n",
    "from sklearn.preprocessing import StandardScaler, MinMaxScaler\n",
    "\n",
    "# Choosing between Standardization or normalization\n",
    "#sc = StandardScaler()\n",
    "sc=MinMaxScaler()\n",
    "\n",
    "DataScaler = sc.fit(FullData)\n",
    "X=DataScaler.transform(FullData)\n",
    "#X=FullData\n",
    "\n",
    "X[0:5]"
   ]
  },
  {
   "cell_type": "code",
   "execution_count": 46,
   "metadata": {},
   "outputs": [],
   "source": [
    "# split into samples\n",
    "X_samples = list()\n",
    "y_samples = list()\n",
    "\n",
    "NumerOfRows = len(X)\n",
    "TimeSteps=10  # next day's Price Prediction is based on last how many past day's prices\n",
    "\n",
    "# Iterate thru the values to create combinations\n",
    "for i in range(TimeSteps , NumerOfRows , 1):\n",
    "    x_sample = X[i-TimeSteps:i]\n",
    "    y_sample = X[i]\n",
    "    X_samples.append(x_sample)\n",
    "    y_samples.append(y_sample)"
   ]
  },
  {
   "cell_type": "code",
   "execution_count": 47,
   "metadata": {},
   "outputs": [
    {
     "data": {
      "text/plain": [
       "(361, 10, 1)"
      ]
     },
     "execution_count": 47,
     "metadata": {},
     "output_type": "execute_result"
    }
   ],
   "source": [
    "# Reshape the Input as a 3D (samples, Time Steps, Features)\n",
    "X_data=np.array(X_samples)\n",
    "X_data=X_data.reshape(X_data.shape[0],X_data.shape[1], 1)\n",
    "X_data.shape"
   ]
  },
  {
   "cell_type": "code",
   "execution_count": 48,
   "metadata": {},
   "outputs": [
    {
     "data": {
      "text/plain": [
       "(361, 1)"
      ]
     },
     "execution_count": 48,
     "metadata": {},
     "output_type": "execute_result"
    }
   ],
   "source": [
    "# We do not reshape y as a 3D data  as it is supposed to be a single column only\n",
    "y_data=np.array(y_samples)\n",
    "y_data=y_data.reshape(y_data.shape[0], 1)\n",
    "y_data.shape"
   ]
  },
  {
   "cell_type": "code",
   "execution_count": 49,
   "metadata": {},
   "outputs": [],
   "source": [
    "# Choosing the number of testing data records\n",
    "TestingRecords=10\n",
    "\n",
    "# Splitting the data into train and test\n",
    "X_train=X_data[:-TestingRecords]\n",
    "X_test=X_data[-TestingRecords:]\n",
    "y_train=y_data[:-TestingRecords]\n",
    "y_test=y_data[-TestingRecords:]"
   ]
  },
  {
   "cell_type": "code",
   "execution_count": 50,
   "metadata": {},
   "outputs": [
    {
     "name": "stdout",
     "output_type": "stream",
     "text": [
      "(351, 10, 1)\n",
      "(351, 1)\n",
      "(10, 10, 1)\n",
      "(10, 1)\n"
     ]
    }
   ],
   "source": [
    "# Printing the shape of training and testing\n",
    "print(X_train.shape)\n",
    "print(y_train.shape)\n",
    "print(X_test.shape)\n",
    "print(y_test.shape)"
   ]
  },
  {
   "cell_type": "code",
   "execution_count": null,
   "metadata": {},
   "outputs": [],
   "source": []
  },
  {
   "cell_type": "code",
   "execution_count": 51,
   "metadata": {},
   "outputs": [
    {
     "name": "stdout",
     "output_type": "stream",
     "text": [
      "[[0.4418234 ]\n",
      " [0.45457443]\n",
      " [0.45489321]\n",
      " [0.42907236]\n",
      " [0.463022  ]\n",
      " [0.45776219]\n",
      " [0.47704814]\n",
      " [0.48852407]\n",
      " [0.50063755]\n",
      " [0.55929232]] --> [0.63802996]\n",
      "[[0.45457443]\n",
      " [0.45489321]\n",
      " [0.42907236]\n",
      " [0.463022  ]\n",
      " [0.45776219]\n",
      " [0.47704814]\n",
      " [0.48852407]\n",
      " [0.50063755]\n",
      " [0.55929232]\n",
      " [0.63802996]] --> [0.67054511]\n",
      "[[0.45489321]\n",
      " [0.42907236]\n",
      " [0.463022  ]\n",
      " [0.45776219]\n",
      " [0.47704814]\n",
      " [0.48852407]\n",
      " [0.50063755]\n",
      " [0.55929232]\n",
      " [0.63802996]\n",
      " [0.67054511]] --> [0.65954734]\n",
      "[[0.42907236]\n",
      " [0.463022  ]\n",
      " [0.45776219]\n",
      " [0.47704814]\n",
      " [0.48852407]\n",
      " [0.50063755]\n",
      " [0.55929232]\n",
      " [0.63802996]\n",
      " [0.67054511]\n",
      " [0.65954734]] --> [0.65189672]\n",
      "[[0.463022  ]\n",
      " [0.45776219]\n",
      " [0.47704814]\n",
      " [0.48852407]\n",
      " [0.50063755]\n",
      " [0.55929232]\n",
      " [0.63802996]\n",
      " [0.67054511]\n",
      " [0.65954734]\n",
      " [0.65189672]] --> [0.69668473]\n"
     ]
    }
   ],
   "source": [
    "# Visualizing the input and output being sent to the LSTM model\n",
    "for inp, out in zip(X_train[0:5], y_train[0:5]):\n",
    "    print(inp,'-->', out)"
   ]
  },
  {
   "cell_type": "code",
   "execution_count": 52,
   "metadata": {},
   "outputs": [
    {
     "name": "stdout",
     "output_type": "stream",
     "text": [
      "Number of TimeSteps: 10\n",
      "Number of Features: 1\n"
     ]
    }
   ],
   "source": [
    "# Defining Input shapes for LSTM\n",
    "TimeSteps=X_train.shape[1]\n",
    "TotalFeatures=X_train.shape[2]\n",
    "print(\"Number of TimeSteps:\", TimeSteps)\n",
    "print(\"Number of Features:\", TotalFeatures)"
   ]
  },
  {
   "cell_type": "markdown",
   "metadata": {},
   "source": [
    "### Fitting the Deep Learning LSTM model"
   ]
  },
  {
   "cell_type": "code",
   "execution_count": 53,
   "metadata": {},
   "outputs": [],
   "source": [
    "# Importing the Keras libraries and packages\n",
    "from keras.models import Sequential\n",
    "from keras.layers import Dense\n",
    "from keras.layers import LSTM\n",
    "\n",
    "# Initialising the RNN\n",
    "regressor = Sequential()\n",
    "\n",
    "# Adding the First input hidden layer and the LSTM layer\n",
    "# return_sequences = True, means the output of every time step to be shared with hidden next layer\n",
    "regressor.add(LSTM(units = 10, activation = 'relu', input_shape = (TimeSteps, TotalFeatures), return_sequences=True))\n",
    "\n",
    "\n",
    "# Adding the Second Second hidden layer and the LSTM layer\n",
    "regressor.add(LSTM(units = 5, activation = 'relu', input_shape = (TimeSteps, TotalFeatures), return_sequences=True))\n",
    "\n",
    "# Adding the Second Third hidden layer and the LSTM layer\n",
    "regressor.add(LSTM(units = 5, activation = 'relu', return_sequences=False ))\n",
    "\n",
    "\n",
    "# Adding the output layer\n",
    "regressor.add(Dense(units = 1))\n",
    "\n",
    "# Compiling the RNN\n",
    "regressor.compile(optimizer = 'adam', loss = 'mean_squared_error')"
   ]
  },
  {
   "cell_type": "code",
   "execution_count": 54,
   "metadata": {
    "scrolled": true
   },
   "outputs": [
    {
     "name": "stdout",
     "output_type": "stream",
     "text": [
      "Epoch 1/100\n",
      "71/71 [==============================] - 5s 9ms/step - loss: 0.3968\n",
      "Epoch 2/100\n",
      "71/71 [==============================] - 1s 9ms/step - loss: 0.0252\n",
      "Epoch 3/100\n",
      "71/71 [==============================] - 1s 9ms/step - loss: 0.0089\n",
      "Epoch 4/100\n",
      "71/71 [==============================] - 1s 9ms/step - loss: 0.0155\n",
      "Epoch 5/100\n",
      "71/71 [==============================] - 1s 9ms/step - loss: 0.0101\n",
      "Epoch 6/100\n",
      "71/71 [==============================] - 1s 9ms/step - loss: 0.0150\n",
      "Epoch 7/100\n",
      "71/71 [==============================] - 1s 9ms/step - loss: 0.0134\n",
      "Epoch 8/100\n",
      "71/71 [==============================] - 1s 9ms/step - loss: 0.0133\n",
      "Epoch 9/100\n",
      "71/71 [==============================] - 1s 9ms/step - loss: 0.0103\n",
      "Epoch 10/100\n",
      "71/71 [==============================] - 1s 9ms/step - loss: 0.0089\n",
      "Epoch 11/100\n",
      "71/71 [==============================] - 1s 9ms/step - loss: 0.0094\n",
      "Epoch 12/100\n",
      "71/71 [==============================] - 1s 11ms/step - loss: 0.0119\n",
      "Epoch 13/100\n",
      "71/71 [==============================] - 1s 12ms/step - loss: 0.0089\n",
      "Epoch 14/100\n",
      "71/71 [==============================] - 1s 9ms/step - loss: 0.0107\n",
      "Epoch 15/100\n",
      "71/71 [==============================] - 1s 9ms/step - loss: 0.0058\n",
      "Epoch 16/100\n",
      "71/71 [==============================] - 1s 12ms/step - loss: 0.0088: 0s - loss: \n",
      "Epoch 17/100\n",
      "71/71 [==============================] - 1s 9ms/step - loss: 0.0057\n",
      "Epoch 18/100\n",
      "71/71 [==============================] - 1s 11ms/step - loss: 0.0113\n",
      "Epoch 19/100\n",
      "71/71 [==============================] - 1s 9ms/step - loss: 0.0049\n",
      "Epoch 20/100\n",
      "71/71 [==============================] - 1s 9ms/step - loss: 0.0065\n",
      "Epoch 21/100\n",
      "71/71 [==============================] - 1s 9ms/step - loss: 0.0051\n",
      "Epoch 22/100\n",
      "71/71 [==============================] - 1s 9ms/step - loss: 0.0056\n",
      "Epoch 23/100\n",
      "71/71 [==============================] - 1s 9ms/step - loss: 0.0053\n",
      "Epoch 24/100\n",
      "71/71 [==============================] - 1s 9ms/step - loss: 0.0041\n",
      "Epoch 25/100\n",
      "71/71 [==============================] - 1s 9ms/step - loss: 0.0048\n",
      "Epoch 26/100\n",
      "71/71 [==============================] - 1s 9ms/step - loss: 0.0043\n",
      "Epoch 27/100\n",
      "71/71 [==============================] - 1s 9ms/step - loss: 0.0053\n",
      "Epoch 28/100\n",
      "71/71 [==============================] - 1s 9ms/step - loss: 0.0041\n",
      "Epoch 29/100\n",
      "71/71 [==============================] - 1s 9ms/step - loss: 0.0029\n",
      "Epoch 30/100\n",
      "71/71 [==============================] - 1s 9ms/step - loss: 0.0048\n",
      "Epoch 31/100\n",
      "71/71 [==============================] - 1s 9ms/step - loss: 0.0043\n",
      "Epoch 32/100\n",
      "71/71 [==============================] - ETA: 0s - loss: 0.004 - 1s 9ms/step - loss: 0.0045\n",
      "Epoch 33/100\n",
      "71/71 [==============================] - 1s 9ms/step - loss: 0.0034\n",
      "Epoch 34/100\n",
      "71/71 [==============================] - 1s 9ms/step - loss: 0.0045\n",
      "Epoch 35/100\n",
      "71/71 [==============================] - 1s 9ms/step - loss: 0.0033\n",
      "Epoch 36/100\n",
      "71/71 [==============================] - 1s 9ms/step - loss: 0.0031\n",
      "Epoch 37/100\n",
      "71/71 [==============================] - 1s 9ms/step - loss: 0.0038\n",
      "Epoch 38/100\n",
      "71/71 [==============================] - 1s 9ms/step - loss: 0.0029\n",
      "Epoch 39/100\n",
      "71/71 [==============================] - 1s 9ms/step - loss: 0.0043\n",
      "Epoch 40/100\n",
      "71/71 [==============================] - 1s 9ms/step - loss: 0.0039\n",
      "Epoch 41/100\n",
      "71/71 [==============================] - 1s 9ms/step - loss: 0.0039\n",
      "Epoch 42/100\n",
      "71/71 [==============================] - 1s 9ms/step - loss: 0.0049\n",
      "Epoch 43/100\n",
      "71/71 [==============================] - 1s 10ms/step - loss: 0.0028\n",
      "Epoch 44/100\n",
      "71/71 [==============================] - 1s 13ms/step - loss: 0.0048\n",
      "Epoch 45/100\n",
      "71/71 [==============================] - 1s 10ms/step - loss: 0.0049\n",
      "Epoch 46/100\n",
      "71/71 [==============================] - 1s 11ms/step - loss: 0.0038\n",
      "Epoch 47/100\n",
      "71/71 [==============================] - 1s 11ms/step - loss: 0.0042\n",
      "Epoch 48/100\n",
      "71/71 [==============================] - 1s 9ms/step - loss: 0.0040\n",
      "Epoch 49/100\n",
      "71/71 [==============================] - 1s 9ms/step - loss: 0.0036\n",
      "Epoch 50/100\n",
      "71/71 [==============================] - 1s 9ms/step - loss: 0.0041\n",
      "Epoch 51/100\n",
      "71/71 [==============================] - 1s 9ms/step - loss: 0.0040\n",
      "Epoch 52/100\n",
      "71/71 [==============================] - 1s 9ms/step - loss: 0.0034\n",
      "Epoch 53/100\n",
      "71/71 [==============================] - 1s 9ms/step - loss: 0.0029\n",
      "Epoch 54/100\n",
      "71/71 [==============================] - 1s 9ms/step - loss: 0.0031\n",
      "Epoch 55/100\n",
      "71/71 [==============================] - 1s 10ms/step - loss: 0.0028\n",
      "Epoch 56/100\n",
      "71/71 [==============================] - 1s 9ms/step - loss: 0.0028\n",
      "Epoch 57/100\n",
      "71/71 [==============================] - 1s 9ms/step - loss: 0.0048\n",
      "Epoch 58/100\n",
      "71/71 [==============================] - 1s 11ms/step - loss: 0.0042\n",
      "Epoch 59/100\n",
      "71/71 [==============================] - 1s 9ms/step - loss: 0.0030\n",
      "Epoch 60/100\n",
      "71/71 [==============================] - 1s 10ms/step - loss: 0.0038\n",
      "Epoch 61/100\n",
      "71/71 [==============================] - 1s 11ms/step - loss: 0.0026\n",
      "Epoch 62/100\n",
      "71/71 [==============================] - 1s 9ms/step - loss: 0.0022\n",
      "Epoch 63/100\n",
      "71/71 [==============================] - 1s 9ms/step - loss: 0.0023\n",
      "Epoch 64/100\n",
      "71/71 [==============================] - 1s 9ms/step - loss: 0.0028\n",
      "Epoch 65/100\n",
      "71/71 [==============================] - 1s 11ms/step - loss: 0.0033\n",
      "Epoch 66/100\n",
      "71/71 [==============================] - 1s 9ms/step - loss: 0.0029\n",
      "Epoch 67/100\n",
      "71/71 [==============================] - 1s 9ms/step - loss: 0.0030\n",
      "Epoch 68/100\n",
      "71/71 [==============================] - 1s 9ms/step - loss: 0.0029\n",
      "Epoch 69/100\n",
      "71/71 [==============================] - 1s 9ms/step - loss: 0.0035\n",
      "Epoch 70/100\n",
      "71/71 [==============================] - 1s 9ms/step - loss: 0.0028\n",
      "Epoch 71/100\n",
      "71/71 [==============================] - 1s 9ms/step - loss: 0.0029\n",
      "Epoch 72/100\n",
      "71/71 [==============================] - 1s 9ms/step - loss: 0.0028\n",
      "Epoch 73/100\n",
      "71/71 [==============================] - 1s 9ms/step - loss: 0.0027\n",
      "Epoch 74/100\n",
      "71/71 [==============================] - 1s 9ms/step - loss: 0.0019\n",
      "Epoch 75/100\n",
      "71/71 [==============================] - 1s 9ms/step - loss: 0.0038\n",
      "Epoch 76/100\n",
      "71/71 [==============================] - 1s 9ms/step - loss: 0.0040\n",
      "Epoch 77/100\n",
      "71/71 [==============================] - 1s 9ms/step - loss: 0.0030\n",
      "Epoch 78/100\n",
      "71/71 [==============================] - 1s 9ms/step - loss: 0.0031\n",
      "Epoch 79/100\n",
      "71/71 [==============================] - 1s 9ms/step - loss: 0.0027\n",
      "Epoch 80/100\n",
      "71/71 [==============================] - 1s 9ms/step - loss: 0.0023\n",
      "Epoch 81/100\n",
      "71/71 [==============================] - 1s 9ms/step - loss: 0.0029\n",
      "Epoch 82/100\n",
      "71/71 [==============================] - 1s 9ms/step - loss: 0.0040\n",
      "Epoch 83/100\n",
      "71/71 [==============================] - 1s 9ms/step - loss: 0.0032\n",
      "Epoch 84/100\n",
      "71/71 [==============================] - 1s 12ms/step - loss: 0.0033: 0s - lo\n",
      "Epoch 85/100\n",
      "71/71 [==============================] - 1s 12ms/step - loss: 0.0024\n",
      "Epoch 86/100\n",
      "71/71 [==============================] - 1s 10ms/step - loss: 0.0025\n",
      "Epoch 87/100\n",
      "71/71 [==============================] - 1s 12ms/step - loss: 0.0035\n",
      "Epoch 88/100\n",
      "71/71 [==============================] - 1s 10ms/step - loss: 0.0016\n",
      "Epoch 89/100\n",
      "71/71 [==============================] - 1s 9ms/step - loss: 0.0029\n",
      "Epoch 90/100\n",
      "71/71 [==============================] - 1s 9ms/step - loss: 0.0021\n",
      "Epoch 91/100\n",
      "71/71 [==============================] - 1s 8ms/step - loss: 0.0020\n",
      "Epoch 92/100\n",
      "71/71 [==============================] - 1s 8ms/step - loss: 0.0031\n",
      "Epoch 93/100\n",
      "71/71 [==============================] - 1s 8ms/step - loss: 0.0037\n",
      "Epoch 94/100\n",
      "71/71 [==============================] - 1s 8ms/step - loss: 0.0027\n",
      "Epoch 95/100\n",
      "71/71 [==============================] - 1s 9ms/step - loss: 0.0021\n",
      "Epoch 96/100\n",
      "71/71 [==============================] - 1s 12ms/step - loss: 0.0031\n",
      "Epoch 97/100\n",
      "71/71 [==============================] - 1s 9ms/step - loss: 0.0025\n",
      "Epoch 98/100\n",
      "71/71 [==============================] - 1s 8ms/step - loss: 0.0028\n",
      "Epoch 99/100\n",
      "71/71 [==============================] - 1s 8ms/step - loss: 0.0026\n",
      "Epoch 100/100\n",
      "71/71 [==============================] - 1s 8ms/step - loss: 0.0023\n",
      "############### Total Time Taken:  1 Minutes #############\n"
     ]
    }
   ],
   "source": [
    "import time\n",
    "# Measuring the time taken by the model to train\n",
    "StartTime=time.time()\n",
    "\n",
    "# Fitting the RNN to the Training set\n",
    "regressor.fit(X_train, y_train, batch_size = 5, epochs = 100)\n",
    "\n",
    "EndTime=time.time()\n",
    "print(\"############### Total Time Taken: \", round((EndTime-StartTime)/60), 'Minutes #############')"
   ]
  },
  {
   "cell_type": "code",
   "execution_count": null,
   "metadata": {
    "collapsed": true
   },
   "outputs": [],
   "source": []
  },
  {
   "cell_type": "markdown",
   "metadata": {},
   "source": [
    "### Generating predictions on testing data"
   ]
  },
  {
   "cell_type": "code",
   "execution_count": 55,
   "metadata": {
    "scrolled": true
   },
   "outputs": [
    {
     "data": {
      "text/plain": [
       "array([[707.6687 ],\n",
       "       [705.9677 ],\n",
       "       [719.2789 ],\n",
       "       [716.92694],\n",
       "       [705.6106 ],\n",
       "       [739.6786 ],\n",
       "       [734.16315],\n",
       "       [736.1088 ],\n",
       "       [734.1757 ],\n",
       "       [753.3956 ]], dtype=float32)"
      ]
     },
     "execution_count": 55,
     "metadata": {},
     "output_type": "execute_result"
    }
   ],
   "source": [
    "# Making predictions on test data\n",
    "predicted_Price = regressor.predict(X_test)\n",
    "predicted_Price = DataScaler.inverse_transform(predicted_Price)\n",
    "predicted_Price"
   ]
  },
  {
   "cell_type": "code",
   "execution_count": 56,
   "metadata": {},
   "outputs": [
    {
     "data": {
      "text/plain": [
       "array([[703.7 ],\n",
       "       [720.65],\n",
       "       [714.15],\n",
       "       [700.5 ],\n",
       "       [748.2 ],\n",
       "       [731.75],\n",
       "       [735.95],\n",
       "       [731.9 ],\n",
       "       [756.6 ],\n",
       "       [762.7 ]])"
      ]
     },
     "execution_count": 56,
     "metadata": {},
     "output_type": "execute_result"
    }
   ],
   "source": [
    "# Getting the original price values for testing data\n",
    "orig=y_test\n",
    "orig=DataScaler.inverse_transform(y_test)\n",
    "orig"
   ]
  },
  {
   "cell_type": "markdown",
   "metadata": {},
   "source": [
    "### Measuring the Accuracy of predictions"
   ]
  },
  {
   "cell_type": "code",
   "execution_count": 57,
   "metadata": {},
   "outputs": [
    {
     "data": {
      "text/plain": [
       "98.25580903182102"
      ]
     },
     "execution_count": 57,
     "metadata": {},
     "output_type": "execute_result"
    }
   ],
   "source": [
    "# Accuracy of the predictions\n",
    "100 - (100*(abs(orig-predicted_Price)/orig)).mean()"
   ]
  },
  {
   "cell_type": "markdown",
   "metadata": {},
   "source": [
    "### Plotting the predictions for Testing data"
   ]
  },
  {
   "cell_type": "code",
   "execution_count": 58,
   "metadata": {},
   "outputs": [
    {
     "data": {
      "image/png": "[encoded data removed]",
      "text/plain": [
       "<Figure size 1440x432 with 1 Axes>"
      ]
     },
     "metadata": {
      "needs_background": "light"
     },
     "output_type": "display_data"
    }
   ],
   "source": [
    "# Visualising the results\n",
    "import matplotlib.pyplot as plt\n",
    "\n",
    "plt.plot(predicted_Price, color = 'blue', label = 'Predicted Volume')\n",
    "plt.plot(orig, color = 'lightblue', label = 'Original Volume')\n",
    "\n",
    "plt.title('Stock Price Predictions')\n",
    "plt.xlabel('Trading Date')\n",
    "plt.xticks(range(TestingRecords), StockData.tail(TestingRecords)['TradeDate'])\n",
    "plt.ylabel('Stock Price')\n",
    "\n",
    "plt.legend()\n",
    "fig=plt.gcf()\n",
    "fig.set_figwidth(20)\n",
    "fig.set_figheight(6)\n",
    "plt.show()"
   ]
  },
  {
   "cell_type": "code",
   "execution_count": null,
   "metadata": {
    "collapsed": true
   },
   "outputs": [],
   "source": []
  },
  {
   "cell_type": "markdown",
   "metadata": {
    "collapsed": true
   },
   "source": [
    "### Plotting the predictions for full data"
   ]
  },
  {
   "cell_type": "code",
   "execution_count": 59,
   "metadata": {},
   "outputs": [
    {
     "data": {
      "image/png": "[encoded data removed]",
      "text/plain": [
       "<Figure size 1440x576 with 1 Axes>"
      ]
     },
     "metadata": {
      "needs_background": "light"
     },
     "output_type": "display_data"
    }
   ],
   "source": [
    "# Generating predictions on full data\n",
    "TrainPredictions=DataScaler.inverse_transform(regressor.predict(X_train))\n",
    "TestPredictions=DataScaler.inverse_transform(regressor.predict(X_test))\n",
    "\n",
    "FullDataPredictions=np.append(TrainPredictions, TestPredictions)\n",
    "FullDataOrig=FullData[TimeSteps:]\n",
    "\n",
    "# plotting the full data\n",
    "plt.plot(FullDataPredictions, color = 'blue', label = 'Predicted Price')\n",
    "plt.plot(FullDataOrig , color = 'lightblue', label = 'Original Price')\n",
    "\n",
    "\n",
    "plt.title('Stock Price Predictions')\n",
    "plt.xlabel('Trading Date')\n",
    "plt.ylabel('Stock Price')\n",
    "plt.legend()\n",
    "fig=plt.gcf()\n",
    "fig.set_figwidth(20)\n",
    "fig.set_figheight(8)\n",
    "plt.show()"
   ]
  },
  {
   "cell_type": "code",
   "execution_count": 70,
   "metadata": {},
   "outputs": [
    {
     "data": {
      "text/plain": [
       "(10, 10, 1)"
      ]
     },
     "execution_count": 70,
     "metadata": {},
     "output_type": "execute_result"
    }
   ],
   "source": [
    "X_test.shape"
   ]
  },
  {
   "cell_type": "code",
   "execution_count": 71,
   "metadata": {},
   "outputs": [
    {
     "data": {
      "text/plain": [
       "(10, 1)"
      ]
     },
     "execution_count": 71,
     "metadata": {},
     "output_type": "execute_result"
    }
   ],
   "source": [
    "y_test.shape"
   ]
  },
  {
   "cell_type": "code",
   "execution_count": 72,
   "metadata": {},
   "outputs": [
    {
     "data": {
      "text/plain": [
       "10"
      ]
     },
     "execution_count": 72,
     "metadata": {},
     "output_type": "execute_result"
    }
   ],
   "source": [
    "len(X_test)"
   ]
  },
  {
   "cell_type": "markdown",
   "metadata": {},
   "source": [
    "## Taking last sequence of X_test data and reshape to (1,10)"
   ]
  },
  {
   "cell_type": "code",
   "execution_count": 85,
   "metadata": {},
   "outputs": [
    {
     "data": {
      "text/plain": [
       "(1, 10)"
      ]
     },
     "execution_count": 85,
     "metadata": {},
     "output_type": "execute_result"
    }
   ],
   "source": [
    "x_input=X_test[9,:].reshape(1,-1)\n",
    "x_input.shape"
   ]
  },
  {
   "cell_type": "code",
   "execution_count": 87,
   "metadata": {},
   "outputs": [
    {
     "data": {
      "text/plain": [
       "array([[0.57092764, 0.56503028, 0.6190628 , 0.59834237, 0.55482945,\n",
       "        0.70688556, 0.65444692, 0.66783551, 0.65492509, 0.73366274]])"
      ]
     },
     "execution_count": 87,
     "metadata": {},
     "output_type": "execute_result"
    }
   ],
   "source": [
    "x_input"
   ]
  },
  {
   "cell_type": "code",
   "execution_count": 88,
   "metadata": {},
   "outputs": [],
   "source": [
    "temp_input=list(x_input)\n",
    "temp_input=temp_input[0].tolist()"
   ]
  },
  {
   "cell_type": "code",
   "execution_count": 96,
   "metadata": {},
   "outputs": [
    {
     "data": {
      "text/plain": [
       "[0.5709276378705768,\n",
       " 0.5650302837105514,\n",
       " 0.6190627988524067,\n",
       " 0.5983423653171818,\n",
       " 0.5548294548932102,\n",
       " 0.7068855594517054,\n",
       " 0.6544469238125596,\n",
       " 0.6678355116353207,\n",
       " 0.6549250876633728,\n",
       " 0.7336627350972267]"
      ]
     },
     "execution_count": 96,
     "metadata": {},
     "output_type": "execute_result"
    }
   ],
   "source": [
    "temp_input"
   ]
  },
  {
   "cell_type": "code",
   "execution_count": 98,
   "metadata": {},
   "outputs": [
    {
     "name": "stdout",
     "output_type": "stream",
     "text": [
      "[[0.723447859287262], [0.7233060598373413], [0.7234381437301636], [0.7247303128242493], [0.7250767350196838], [0.7258294224739075], [0.7259731888771057], [0.7256768345832825], [0.7247391939163208], [0.7241621613502502]]\n"
     ]
    }
   ],
   "source": [
    "# demonstrate prediction for next 10 days\n",
    "from numpy import array\n",
    "\n",
    "first_output=[]\n",
    "n_steps=10\n",
    "i=0\n",
    "while(i<10):\n",
    "    if(len(temp_input)>10):\n",
    "        x_input=np.array(temp_input[1:])\n",
    "#         print(\"{} day input {}\".format(i,x_input))\n",
    "        x_input=x_input.reshape(1,-1)\n",
    "        x_input=x_input.reshape((1,n_steps,1))\n",
    "        yhat=regressor.predict(x_input,verbose=0)\n",
    "#         print(\"{} day output {}\".format(i,yhat))\n",
    "        temp_input.extend(yhat[0].tolist())\n",
    "        temp_input=temp_input[1:]\n",
    "        first_output.extend(yhat.tolist())\n",
    "        i=i+1\n",
    "    else:\n",
    "        x_input= x_input.reshape((1,n_steps,1))\n",
    "        yhat=regressor.predict(x_input,verbose=0)\n",
    "#         print(yhat[0])\n",
    "        temp_input.extend(yhat[0].tolist())\n",
    "#         print(len(temp_input))\n",
    "        first_output.extend(yhat.tolist())\n",
    "        i=i+1\n",
    "        \n",
    "print(first_output)"
   ]
  },
  {
   "cell_type": "code",
   "execution_count": 99,
   "metadata": {},
   "outputs": [
    {
     "data": {
      "text/plain": [
       "[[0.723447859287262],\n",
       " [0.7233060598373413],\n",
       " [0.7234381437301636],\n",
       " [0.7247303128242493],\n",
       " [0.7250767350196838],\n",
       " [0.7258294224739075],\n",
       " [0.7259731888771057],\n",
       " [0.7256768345832825],\n",
       " [0.7247391939163208],\n",
       " [0.7241621613502502]]"
      ]
     },
     "execution_count": 99,
     "metadata": {},
     "output_type": "execute_result"
    }
   ],
   "source": [
    "# first_output=scaler.inverse_transform(first_output)\n",
    "first_output"
   ]
  },
  {
   "cell_type": "code",
   "execution_count": 110,
   "metadata": {},
   "outputs": [
    {
     "data": {
      "text/plain": [
       "(371, 1)"
      ]
     },
     "execution_count": 110,
     "metadata": {},
     "output_type": "execute_result"
    }
   ],
   "source": [
    "FullData.shape"
   ]
  },
  {
   "cell_type": "code",
   "execution_count": 145,
   "metadata": {},
   "outputs": [],
   "source": [
    "day_new=np.arange(0,len(FullData))\n",
    "day_pred=np.arange(len(FullData),len(FullData)+n_steps)"
   ]
  },
  {
   "cell_type": "code",
   "execution_count": 127,
   "metadata": {},
   "outputs": [],
   "source": [
    "import matplotlib.pyplot as plt"
   ]
  },
  {
   "cell_type": "code",
   "execution_count": 146,
   "metadata": {},
   "outputs": [
    {
     "data": {
      "text/plain": [
       "[<matplotlib.lines.Line2D at 0x29ad7626790>]"
      ]
     },
     "execution_count": 146,
     "metadata": {},
     "output_type": "execute_result"
    },
    {
     "data": {
      "image/png": "[encoded data removed]",
      "text/plain": [
       "<Figure size 432x288 with 1 Axes>"
      ]
     },
     "metadata": {
      "needs_background": "light"
     },
     "output_type": "display_data"
    }
   ],
   "source": [
    "plt.plot(day_new,FullData)\n",
    "plt.plot(day_pred,DataScaler.inverse_transform(first_output))"
   ]
  },
  {
   "cell_type": "code",
   "execution_count": 148,
   "metadata": {},
   "outputs": [
    {
     "data": {
      "text/plain": [
       "[<matplotlib.lines.Line2D at 0x29ad28fc910>]"
      ]
     },
     "execution_count": 148,
     "metadata": {},
     "output_type": "execute_result"
    },
    {
     "data": {
      "image/png": "[encoded data removed]",
      "text/plain": [
       "<Figure size 432x288 with 1 Axes>"
      ]
     },
     "metadata": {
      "needs_background": "light"
     },
     "output_type": "display_data"
    }
   ],
   "source": [
    "df2=FullData.copy()\n",
    "df2=df2.tolist()\n",
    "df2.extend(DataScaler.inverse_transform(first_output))\n",
    "plt.plot(df2[371:])"
   ]
  },
  {
   "cell_type": "code",
   "execution_count": null,
   "metadata": {
    "collapsed": true
   },
   "outputs": [],
   "source": []
  }
 ],
 "metadata": {
  "kernelspec": {
   "display_name": "Python 3",
   "language": "python",
   "name": "python3"
  },
  "language_info": {
   "codemirror_mode": {
    "name": "ipython",
    "version": 3
   },
   "file_extension": ".py",
   "mimetype": "text/x-python",
   "name": "python",
   "nbconvert_exporter": "python",
   "pygments_lexer": "ipython3",
   "version": "3.8.5"
  }
 },
 "nbformat": 4,
 "nbformat_minor": 2
}
