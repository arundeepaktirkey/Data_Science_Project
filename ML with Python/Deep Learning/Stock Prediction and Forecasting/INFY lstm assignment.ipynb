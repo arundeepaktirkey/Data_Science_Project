{
 "cells": [
  {
   "cell_type": "code",
   "execution_count": 3,
   "metadata": {},
   "outputs": [],
   "source": [
    "import pandas as pd\n",
    "import numpy as np\n",
    "import matplotlib.pyplot as plt\n",
    "\n",
    "# To remove the scientific notation from numpy arrays\n",
    "np.set_printoptions(suppress=True)"
   ]
  },
  {
   "cell_type": "code",
   "execution_count": 2,
   "metadata": {},
   "outputs": [
    {
     "name": "stdout",
     "output_type": "stream",
     "text": [
      "Collecting nsepy\n",
      "  Downloading nsepy-0.8.tar.gz (33 kB)\n",
      "Requirement already satisfied: beautifulsoup4 in c:\\users\\arun\\anaconda3\\lib\\site-packages (from nsepy) (4.9.3)\n",
      "Requirement already satisfied: requests in c:\\users\\arun\\anaconda3\\lib\\site-packages (from nsepy) (2.24.0)\n",
      "Requirement already satisfied: numpy in c:\\users\\arun\\anaconda3\\lib\\site-packages (from nsepy) (1.19.2)\n",
      "Requirement already satisfied: pandas in c:\\users\\arun\\anaconda3\\lib\\site-packages (from nsepy) (1.1.3)\n",
      "Requirement already satisfied: six in c:\\users\\arun\\anaconda3\\lib\\site-packages (from nsepy) (1.15.0)\n",
      "Requirement already satisfied: click in c:\\users\\arun\\anaconda3\\lib\\site-packages (from nsepy) (7.1.2)\n",
      "Requirement already satisfied: lxml in c:\\users\\arun\\anaconda3\\lib\\site-packages (from nsepy) (4.6.1)\n",
      "Requirement already satisfied: soupsieve>1.2; python_version >= \"3.0\" in c:\\users\\arun\\anaconda3\\lib\\site-packages (from beautifulsoup4->nsepy) (2.0.1)\n",
      "Requirement already satisfied: certifi>=2017.4.17 in c:\\users\\arun\\anaconda3\\lib\\site-packages (from requests->nsepy) (2020.6.20)\n",
      "Requirement already satisfied: idna<3,>=2.5 in c:\\users\\arun\\anaconda3\\lib\\site-packages (from requests->nsepy) (2.10)\n",
      "Requirement already satisfied: urllib3!=1.25.0,!=1.25.1,<1.26,>=1.21.1 in c:\\users\\arun\\anaconda3\\lib\\site-packages (from requests->nsepy) (1.25.11)\n",
      "Requirement already satisfied: chardet<4,>=3.0.2 in c:\\users\\arun\\anaconda3\\lib\\site-packages (from requests->nsepy) (3.0.4)\n",
      "Requirement already satisfied: pytz>=2017.2 in c:\\users\\arun\\anaconda3\\lib\\site-packages (from pandas->nsepy) (2020.1)\n",
      "Requirement already satisfied: python-dateutil>=2.7.3 in c:\\users\\arun\\anaconda3\\lib\\site-packages (from pandas->nsepy) (2.8.1)\n",
      "Building wheels for collected packages: nsepy\n",
      "  Building wheel for nsepy (setup.py): started\n",
      "  Building wheel for nsepy (setup.py): finished with status 'done'\n",
      "  Created wheel for nsepy: filename=nsepy-0.8-py3-none-any.whl size=36088 sha256=18d8bf6f397c30f4c448775d68133dc1f54193e27d03c0a30c0db7c30c3032df\n",
      "  Stored in directory: c:\\users\\arun\\appdata\\local\\pip\\cache\\wheels\\b9\\2c\\cb\\d74199e422a1dbc20297d10cfff9c54d03e0b5c6694d49ccdd\n",
      "Successfully built nsepy\n",
      "Installing collected packages: nsepy\n",
      "Successfully installed nsepy-0.8\n"
     ]
    }
   ],
   "source": [
    "# install the nsepy library to get stock prices\n",
    "# !pip install nsepy "
   ]
  },
  {
   "cell_type": "code",
   "execution_count": 4,
   "metadata": {
    "scrolled": true
   },
   "outputs": [
    {
     "name": "stdout",
     "output_type": "stream",
     "text": [
      "(390, 14)\n"
     ]
    },
    {
     "data": {
      "text/html": [
       "<div>\n",
       "<style scoped>\n",
       "    .dataframe tbody tr th:only-of-type {\n",
       "        vertical-align: middle;\n",
       "    }\n",
       "\n",
       "    .dataframe tbody tr th {\n",
       "        vertical-align: top;\n",
       "    }\n",
       "\n",
       "    .dataframe thead th {\n",
       "        text-align: right;\n",
       "    }\n",
       "</style>\n",
       "<table border=\"1\" class=\"dataframe\">\n",
       "  <thead>\n",
       "    <tr style=\"text-align: right;\">\n",
       "      <th></th>\n",
       "      <th>Symbol</th>\n",
       "      <th>Series</th>\n",
       "      <th>Prev Close</th>\n",
       "      <th>Open</th>\n",
       "      <th>High</th>\n",
       "      <th>Low</th>\n",
       "      <th>Last</th>\n",
       "      <th>Close</th>\n",
       "      <th>VWAP</th>\n",
       "      <th>Volume</th>\n",
       "      <th>Turnover</th>\n",
       "      <th>Trades</th>\n",
       "      <th>Deliverable Volume</th>\n",
       "      <th>%Deliverble</th>\n",
       "    </tr>\n",
       "    <tr>\n",
       "      <th>Date</th>\n",
       "      <th></th>\n",
       "      <th></th>\n",
       "      <th></th>\n",
       "      <th></th>\n",
       "      <th></th>\n",
       "      <th></th>\n",
       "      <th></th>\n",
       "      <th></th>\n",
       "      <th></th>\n",
       "      <th></th>\n",
       "      <th></th>\n",
       "      <th></th>\n",
       "      <th></th>\n",
       "      <th></th>\n",
       "    </tr>\n",
       "  </thead>\n",
       "  <tbody>\n",
       "    <tr>\n",
       "      <th>2019-01-01</th>\n",
       "      <td>INFY</td>\n",
       "      <td>EQ</td>\n",
       "      <td>658.95</td>\n",
       "      <td>660.95</td>\n",
       "      <td>666.3</td>\n",
       "      <td>654.15</td>\n",
       "      <td>665.95</td>\n",
       "      <td>665.05</td>\n",
       "      <td>660.66</td>\n",
       "      <td>2943390</td>\n",
       "      <td>1.944579e+14</td>\n",
       "      <td>45422</td>\n",
       "      <td>1282161</td>\n",
       "      <td>0.4356</td>\n",
       "    </tr>\n",
       "    <tr>\n",
       "      <th>2019-01-02</th>\n",
       "      <td>INFY</td>\n",
       "      <td>EQ</td>\n",
       "      <td>665.05</td>\n",
       "      <td>666.00</td>\n",
       "      <td>674.0</td>\n",
       "      <td>662.05</td>\n",
       "      <td>668.00</td>\n",
       "      <td>669.05</td>\n",
       "      <td>669.97</td>\n",
       "      <td>7416655</td>\n",
       "      <td>4.968963e+14</td>\n",
       "      <td>108094</td>\n",
       "      <td>3880800</td>\n",
       "      <td>0.5233</td>\n",
       "    </tr>\n",
       "    <tr>\n",
       "      <th>2019-01-03</th>\n",
       "      <td>INFY</td>\n",
       "      <td>EQ</td>\n",
       "      <td>669.05</td>\n",
       "      <td>672.00</td>\n",
       "      <td>677.0</td>\n",
       "      <td>663.10</td>\n",
       "      <td>668.00</td>\n",
       "      <td>669.15</td>\n",
       "      <td>669.66</td>\n",
       "      <td>6827249</td>\n",
       "      <td>4.571929e+14</td>\n",
       "      <td>125781</td>\n",
       "      <td>3676359</td>\n",
       "      <td>0.5385</td>\n",
       "    </tr>\n",
       "    <tr>\n",
       "      <th>2019-01-04</th>\n",
       "      <td>INFY</td>\n",
       "      <td>EQ</td>\n",
       "      <td>669.15</td>\n",
       "      <td>671.75</td>\n",
       "      <td>673.9</td>\n",
       "      <td>651.00</td>\n",
       "      <td>660.25</td>\n",
       "      <td>661.05</td>\n",
       "      <td>660.17</td>\n",
       "      <td>7889310</td>\n",
       "      <td>5.208305e+14</td>\n",
       "      <td>187590</td>\n",
       "      <td>3747741</td>\n",
       "      <td>0.4750</td>\n",
       "    </tr>\n",
       "    <tr>\n",
       "      <th>2019-01-07</th>\n",
       "      <td>INFY</td>\n",
       "      <td>EQ</td>\n",
       "      <td>661.05</td>\n",
       "      <td>665.00</td>\n",
       "      <td>673.6</td>\n",
       "      <td>661.50</td>\n",
       "      <td>671.70</td>\n",
       "      <td>671.70</td>\n",
       "      <td>667.51</td>\n",
       "      <td>8046340</td>\n",
       "      <td>5.370974e+14</td>\n",
       "      <td>132736</td>\n",
       "      <td>4711672</td>\n",
       "      <td>0.5856</td>\n",
       "    </tr>\n",
       "  </tbody>\n",
       "</table>\n",
       "</div>"
      ],
      "text/plain": [
       "           Symbol Series  Prev Close    Open   High     Low    Last   Close  \\\n",
       "Date                                                                          \n",
       "2019-01-01   INFY     EQ      658.95  660.95  666.3  654.15  665.95  665.05   \n",
       "2019-01-02   INFY     EQ      665.05  666.00  674.0  662.05  668.00  669.05   \n",
       "2019-01-03   INFY     EQ      669.05  672.00  677.0  663.10  668.00  669.15   \n",
       "2019-01-04   INFY     EQ      669.15  671.75  673.9  651.00  660.25  661.05   \n",
       "2019-01-07   INFY     EQ      661.05  665.00  673.6  661.50  671.70  671.70   \n",
       "\n",
       "              VWAP   Volume      Turnover  Trades  Deliverable Volume  \\\n",
       "Date                                                                    \n",
       "2019-01-01  660.66  2943390  1.944579e+14   45422             1282161   \n",
       "2019-01-02  669.97  7416655  4.968963e+14  108094             3880800   \n",
       "2019-01-03  669.66  6827249  4.571929e+14  125781             3676359   \n",
       "2019-01-04  660.17  7889310  5.208305e+14  187590             3747741   \n",
       "2019-01-07  667.51  8046340  5.370974e+14  132736             4711672   \n",
       "\n",
       "            %Deliverble  \n",
       "Date                     \n",
       "2019-01-01       0.4356  \n",
       "2019-01-02       0.5233  \n",
       "2019-01-03       0.5385  \n",
       "2019-01-04       0.4750  \n",
       "2019-01-07       0.5856  "
      ]
     },
     "execution_count": 4,
     "metadata": {},
     "output_type": "execute_result"
    }
   ],
   "source": [
    "# Getting Stock data using nsepy library\n",
    "from nsepy import get_history\n",
    "from datetime import datetime\n",
    "\n",
    "startDate=datetime(2019, 1,1)\n",
    "endDate=datetime(2020, 7, 30)\n",
    "\n",
    "# Fetching the data\n",
    "StockData=get_history(symbol='INFY', start=startDate, end=endDate)\n",
    "print(StockData.shape)\n",
    "StockData.head()"
   ]
  },
  {
   "cell_type": "code",
   "execution_count": 5,
   "metadata": {},
   "outputs": [
    {
     "data": {
      "text/html": [
       "<div>\n",
       "<style scoped>\n",
       "    .dataframe tbody tr th:only-of-type {\n",
       "        vertical-align: middle;\n",
       "    }\n",
       "\n",
       "    .dataframe tbody tr th {\n",
       "        vertical-align: top;\n",
       "    }\n",
       "\n",
       "    .dataframe thead th {\n",
       "        text-align: right;\n",
       "    }\n",
       "</style>\n",
       "<table border=\"1\" class=\"dataframe\">\n",
       "  <thead>\n",
       "    <tr style=\"text-align: right;\">\n",
       "      <th></th>\n",
       "      <th>Symbol</th>\n",
       "      <th>Series</th>\n",
       "      <th>Prev Close</th>\n",
       "      <th>Open</th>\n",
       "      <th>High</th>\n",
       "      <th>Low</th>\n",
       "      <th>Last</th>\n",
       "      <th>Close</th>\n",
       "      <th>VWAP</th>\n",
       "      <th>Volume</th>\n",
       "      <th>Turnover</th>\n",
       "      <th>Trades</th>\n",
       "      <th>Deliverable Volume</th>\n",
       "      <th>%Deliverble</th>\n",
       "      <th>TradeDate</th>\n",
       "    </tr>\n",
       "    <tr>\n",
       "      <th>Date</th>\n",
       "      <th></th>\n",
       "      <th></th>\n",
       "      <th></th>\n",
       "      <th></th>\n",
       "      <th></th>\n",
       "      <th></th>\n",
       "      <th></th>\n",
       "      <th></th>\n",
       "      <th></th>\n",
       "      <th></th>\n",
       "      <th></th>\n",
       "      <th></th>\n",
       "      <th></th>\n",
       "      <th></th>\n",
       "      <th></th>\n",
       "    </tr>\n",
       "  </thead>\n",
       "  <tbody>\n",
       "    <tr>\n",
       "      <th>2020-07-24</th>\n",
       "      <td>INFY</td>\n",
       "      <td>EQ</td>\n",
       "      <td>907.95</td>\n",
       "      <td>903.25</td>\n",
       "      <td>925.75</td>\n",
       "      <td>903.25</td>\n",
       "      <td>921.20</td>\n",
       "      <td>922.85</td>\n",
       "      <td>915.28</td>\n",
       "      <td>18209670</td>\n",
       "      <td>1.666699e+15</td>\n",
       "      <td>240036</td>\n",
       "      <td>5807097</td>\n",
       "      <td>0.3189</td>\n",
       "      <td>2020-07-24</td>\n",
       "    </tr>\n",
       "    <tr>\n",
       "      <th>2020-07-27</th>\n",
       "      <td>INFY</td>\n",
       "      <td>EQ</td>\n",
       "      <td>922.85</td>\n",
       "      <td>921.55</td>\n",
       "      <td>952.80</td>\n",
       "      <td>918.65</td>\n",
       "      <td>947.15</td>\n",
       "      <td>948.45</td>\n",
       "      <td>939.16</td>\n",
       "      <td>16828218</td>\n",
       "      <td>1.580444e+15</td>\n",
       "      <td>278528</td>\n",
       "      <td>5906860</td>\n",
       "      <td>0.3510</td>\n",
       "      <td>2020-07-27</td>\n",
       "    </tr>\n",
       "    <tr>\n",
       "      <th>2020-07-28</th>\n",
       "      <td>INFY</td>\n",
       "      <td>EQ</td>\n",
       "      <td>948.45</td>\n",
       "      <td>946.00</td>\n",
       "      <td>967.55</td>\n",
       "      <td>941.20</td>\n",
       "      <td>960.60</td>\n",
       "      <td>962.85</td>\n",
       "      <td>953.58</td>\n",
       "      <td>15819466</td>\n",
       "      <td>1.508506e+15</td>\n",
       "      <td>220010</td>\n",
       "      <td>5480184</td>\n",
       "      <td>0.3464</td>\n",
       "      <td>2020-07-28</td>\n",
       "    </tr>\n",
       "    <tr>\n",
       "      <th>2020-07-29</th>\n",
       "      <td>INFY</td>\n",
       "      <td>EQ</td>\n",
       "      <td>962.85</td>\n",
       "      <td>953.25</td>\n",
       "      <td>960.00</td>\n",
       "      <td>943.60</td>\n",
       "      <td>951.95</td>\n",
       "      <td>954.15</td>\n",
       "      <td>952.22</td>\n",
       "      <td>11152710</td>\n",
       "      <td>1.061982e+15</td>\n",
       "      <td>212215</td>\n",
       "      <td>4338542</td>\n",
       "      <td>0.3890</td>\n",
       "      <td>2020-07-29</td>\n",
       "    </tr>\n",
       "    <tr>\n",
       "      <th>2020-07-30</th>\n",
       "      <td>INFY</td>\n",
       "      <td>EQ</td>\n",
       "      <td>954.15</td>\n",
       "      <td>962.00</td>\n",
       "      <td>972.65</td>\n",
       "      <td>958.75</td>\n",
       "      <td>962.15</td>\n",
       "      <td>961.45</td>\n",
       "      <td>965.59</td>\n",
       "      <td>12492569</td>\n",
       "      <td>1.206274e+15</td>\n",
       "      <td>222807</td>\n",
       "      <td>5962965</td>\n",
       "      <td>0.4773</td>\n",
       "      <td>2020-07-30</td>\n",
       "    </tr>\n",
       "  </tbody>\n",
       "</table>\n",
       "</div>"
      ],
      "text/plain": [
       "           Symbol Series  Prev Close    Open    High     Low    Last   Close  \\\n",
       "Date                                                                           \n",
       "2020-07-24   INFY     EQ      907.95  903.25  925.75  903.25  921.20  922.85   \n",
       "2020-07-27   INFY     EQ      922.85  921.55  952.80  918.65  947.15  948.45   \n",
       "2020-07-28   INFY     EQ      948.45  946.00  967.55  941.20  960.60  962.85   \n",
       "2020-07-29   INFY     EQ      962.85  953.25  960.00  943.60  951.95  954.15   \n",
       "2020-07-30   INFY     EQ      954.15  962.00  972.65  958.75  962.15  961.45   \n",
       "\n",
       "              VWAP    Volume      Turnover  Trades  Deliverable Volume  \\\n",
       "Date                                                                     \n",
       "2020-07-24  915.28  18209670  1.666699e+15  240036             5807097   \n",
       "2020-07-27  939.16  16828218  1.580444e+15  278528             5906860   \n",
       "2020-07-28  953.58  15819466  1.508506e+15  220010             5480184   \n",
       "2020-07-29  952.22  11152710  1.061982e+15  212215             4338542   \n",
       "2020-07-30  965.59  12492569  1.206274e+15  222807             5962965   \n",
       "\n",
       "            %Deliverble   TradeDate  \n",
       "Date                                 \n",
       "2020-07-24       0.3189  2020-07-24  \n",
       "2020-07-27       0.3510  2020-07-27  \n",
       "2020-07-28       0.3464  2020-07-28  \n",
       "2020-07-29       0.3890  2020-07-29  \n",
       "2020-07-30       0.4773  2020-07-30  "
      ]
     },
     "execution_count": 5,
     "metadata": {},
     "output_type": "execute_result"
    }
   ],
   "source": [
    "# Creating a column as date\n",
    "StockData['TradeDate']=StockData.index\n",
    "StockData.tail()"
   ]
  },
  {
   "cell_type": "markdown",
   "metadata": {},
   "source": [
    "### Plotting the closing  prices of stock"
   ]
  },
  {
   "cell_type": "code",
   "execution_count": 6,
   "metadata": {},
   "outputs": [
    {
     "data": {
      "text/plain": [
       "<AxesSubplot:xlabel='TradeDate'>"
      ]
     },
     "execution_count": 6,
     "metadata": {},
     "output_type": "execute_result"
    },
    {
     "data": {
      "image/png": "[encoded data removed]",
      "text/plain": [
       "<Figure size 1440x432 with 1 Axes>"
      ]
     },
     "metadata": {
      "needs_background": "light"
     },
     "output_type": "display_data"
    }
   ],
   "source": [
    "%matplotlib inline\n",
    "StockData.plot(x='TradeDate', y='Close', kind='line', figsize=(20,6), rot=20)"
   ]
  },
  {
   "cell_type": "markdown",
   "metadata": {},
   "source": [
    "### Preparing the data"
   ]
  },
  {
   "cell_type": "code",
   "execution_count": 7,
   "metadata": {},
   "outputs": [],
   "source": [
    "df1=StockData.reset_index()['Close']"
   ]
  },
  {
   "cell_type": "code",
   "execution_count": 8,
   "metadata": {},
   "outputs": [
    {
     "data": {
      "text/plain": [
       "(390,)"
      ]
     },
     "execution_count": 8,
     "metadata": {},
     "output_type": "execute_result"
    }
   ],
   "source": [
    "df1.shape"
   ]
  },
  {
   "cell_type": "markdown",
   "metadata": {},
   "source": [
    "### LSTM are sensitive to the scale of the data.So we apply MINMAX scaler"
   ]
  },
  {
   "cell_type": "code",
   "execution_count": 9,
   "metadata": {},
   "outputs": [],
   "source": [
    "from sklearn.preprocessing import MinMaxScaler\n",
    "\n",
    "scaler=MinMaxScaler(feature_range=(0,1))\n",
    "df1=scaler.fit_transform(np.array(df1).reshape(-1,1))"
   ]
  },
  {
   "cell_type": "code",
   "execution_count": 44,
   "metadata": {},
   "outputs": [
    {
     "data": {
      "text/plain": [
       "(390, 1)"
      ]
     },
     "execution_count": 44,
     "metadata": {},
     "output_type": "execute_result"
    }
   ],
   "source": [
    "df1.shape"
   ]
  },
  {
   "cell_type": "code",
   "execution_count": 11,
   "metadata": {},
   "outputs": [],
   "source": [
    "## splitting dataset\n",
    "training_size=int(len(df1)*0.65)\n",
    "test_size=len(df1)-training_size\n",
    "train_data,test_data=df1[0:training_size,:],df1[training_size:len(df1),:1]"
   ]
  },
  {
   "cell_type": "code",
   "execution_count": 12,
   "metadata": {},
   "outputs": [
    {
     "data": {
      "text/plain": [
       "(253, 137)"
      ]
     },
     "execution_count": 12,
     "metadata": {},
     "output_type": "execute_result"
    }
   ],
   "source": [
    "training_size,test_size"
   ]
  },
  {
   "cell_type": "code",
   "execution_count": 13,
   "metadata": {},
   "outputs": [
    {
     "data": {
      "text/plain": [
       "(253, 137)"
      ]
     },
     "execution_count": 13,
     "metadata": {},
     "output_type": "execute_result"
    }
   ],
   "source": [
    "len(train_data),len(test_data)"
   ]
  },
  {
   "cell_type": "code",
   "execution_count": 14,
   "metadata": {},
   "outputs": [],
   "source": [
    "\n",
    "# convert an array of values into a dataset matrix\n",
    "def create_dataset(dataset,time_step=1):\n",
    "    dataX, dataY= [],[]\n",
    "    for i in range(len(dataset)-time_step-1):\n",
    "        a=dataset[i:(i+time_step),0]\n",
    "        dataX.append(a)\n",
    "        dataY.append(dataset[i+time_step,0])\n",
    "    return np.array(dataX),np.array(dataY)"
   ]
  },
  {
   "cell_type": "code",
   "execution_count": 15,
   "metadata": {},
   "outputs": [],
   "source": [
    "# reshape into X=t,t+1,t+2,t+3 and t+4\n",
    "time_step=10\n",
    "X_train,y_train=create_dataset(train_data,time_step)\n",
    "X_test,y_test= create_dataset(test_data,time_step)"
   ]
  },
  {
   "cell_type": "code",
   "execution_count": 16,
   "metadata": {},
   "outputs": [
    {
     "name": "stdout",
     "output_type": "stream",
     "text": [
      "(242, 10)\n",
      "(242,)\n"
     ]
    },
    {
     "data": {
      "text/plain": [
       "(None, None)"
      ]
     },
     "execution_count": 16,
     "metadata": {},
     "output_type": "execute_result"
    }
   ],
   "source": [
    "print(X_train.shape),print(y_train.shape)"
   ]
  },
  {
   "cell_type": "code",
   "execution_count": 17,
   "metadata": {},
   "outputs": [
    {
     "name": "stdout",
     "output_type": "stream",
     "text": [
      "(126, 10)\n",
      "(126,)\n"
     ]
    },
    {
     "data": {
      "text/plain": [
       "(None, None)"
      ]
     },
     "execution_count": 17,
     "metadata": {},
     "output_type": "execute_result"
    }
   ],
   "source": [
    "print(X_test.shape),print(y_test.shape)"
   ]
  },
  {
   "cell_type": "code",
   "execution_count": 45,
   "metadata": {},
   "outputs": [],
   "source": [
    "# reshape into to be [sample,time steps, features] which is required for LSTM\n",
    "X_train=X_train.reshape(X_train.shape[0],X_train.shape[1],1)\n",
    "X_test=X_test.reshape(X_test.shape[0],X_test.shape[1],1)"
   ]
  },
  {
   "cell_type": "code",
   "execution_count": 52,
   "metadata": {},
   "outputs": [],
   "source": [
    "y_train=y_train.reshape(y_train.shape[0], 1)\n",
    "y_test=y_test.reshape(y_test.shape[0], 1)"
   ]
  },
  {
   "cell_type": "code",
   "execution_count": 53,
   "metadata": {},
   "outputs": [
    {
     "data": {
      "text/plain": [
       "((242, 10, 1), (126, 10, 1))"
      ]
     },
     "execution_count": 53,
     "metadata": {},
     "output_type": "execute_result"
    }
   ],
   "source": [
    "X_train.shape,X_test.shape"
   ]
  },
  {
   "cell_type": "code",
   "execution_count": 54,
   "metadata": {},
   "outputs": [
    {
     "data": {
      "text/plain": [
       "((242, 1), (126, 1))"
      ]
     },
     "execution_count": 54,
     "metadata": {},
     "output_type": "execute_result"
    }
   ],
   "source": [
    "y_train.shape,y_test.shape"
   ]
  },
  {
   "cell_type": "markdown",
   "metadata": {},
   "source": [
    "### Create the Stacked LSTM model"
   ]
  },
  {
   "cell_type": "code",
   "execution_count": 55,
   "metadata": {},
   "outputs": [],
   "source": [
    "from tensorflow.keras.models import Sequential\n",
    "from tensorflow.keras.layers import Dense\n",
    "from tensorflow.keras.layers import LSTM"
   ]
  },
  {
   "cell_type": "code",
   "execution_count": 56,
   "metadata": {},
   "outputs": [],
   "source": [
    "model=Sequential()\n",
    "model.add(LSTM(50,return_sequences=True,input_shape=(10,1)))\n",
    "model.add(LSTM(50,return_sequences=True))\n",
    "model.add(LSTM(50))\n",
    "model.add(Dense(1))\n",
    "model.compile(loss='mean_squared_error',optimizer='adam')"
   ]
  },
  {
   "cell_type": "code",
   "execution_count": 57,
   "metadata": {},
   "outputs": [
    {
     "name": "stdout",
     "output_type": "stream",
     "text": [
      "Model: \"sequential_1\"\n",
      "_________________________________________________________________\n",
      "Layer (type)                 Output Shape              Param #   \n",
      "=================================================================\n",
      "lstm_3 (LSTM)                (None, 10, 50)            10400     \n",
      "_________________________________________________________________\n",
      "lstm_4 (LSTM)                (None, 10, 50)            20200     \n",
      "_________________________________________________________________\n",
      "lstm_5 (LSTM)                (None, 50)                20200     \n",
      "_________________________________________________________________\n",
      "dense_1 (Dense)              (None, 1)                 51        \n",
      "=================================================================\n",
      "Total params: 50,851\n",
      "Trainable params: 50,851\n",
      "Non-trainable params: 0\n",
      "_________________________________________________________________\n"
     ]
    }
   ],
   "source": [
    "model.summary()"
   ]
  },
  {
   "cell_type": "code",
   "execution_count": 58,
   "metadata": {},
   "outputs": [
    {
     "name": "stdout",
     "output_type": "stream",
     "text": [
      "Epoch 1/100\n",
      "49/49 [==============================] - 10s 46ms/step - loss: 0.0956 - val_loss: 0.0210\n",
      "Epoch 2/100\n",
      "49/49 [==============================] - 1s 12ms/step - loss: 0.0054 - val_loss: 0.0209\n",
      "Epoch 3/100\n",
      "49/49 [==============================] - 1s 12ms/step - loss: 0.0043 - val_loss: 0.0202\n",
      "Epoch 4/100\n",
      "49/49 [==============================] - 1s 12ms/step - loss: 0.0050 - val_loss: 0.0182\n",
      "Epoch 5/100\n",
      "49/49 [==============================] - 1s 12ms/step - loss: 0.0045 - val_loss: 0.0172\n",
      "Epoch 6/100\n",
      "49/49 [==============================] - 1s 12ms/step - loss: 0.0041 - val_loss: 0.0165\n",
      "Epoch 7/100\n",
      "49/49 [==============================] - 1s 12ms/step - loss: 0.0039 - val_loss: 0.0165\n",
      "Epoch 8/100\n",
      "49/49 [==============================] - 1s 12ms/step - loss: 0.0035 - val_loss: 0.0159\n",
      "Epoch 9/100\n",
      "49/49 [==============================] - 1s 12ms/step - loss: 0.0034 - val_loss: 0.0151\n",
      "Epoch 10/100\n",
      "49/49 [==============================] - 1s 12ms/step - loss: 0.0036 - val_loss: 0.0170\n",
      "Epoch 11/100\n",
      "49/49 [==============================] - 1s 12ms/step - loss: 0.0050 - val_loss: 0.0143\n",
      "Epoch 12/100\n",
      "49/49 [==============================] - 1s 12ms/step - loss: 0.0038 - val_loss: 0.0137\n",
      "Epoch 13/100\n",
      "49/49 [==============================] - 1s 12ms/step - loss: 0.0062 - val_loss: 0.0133\n",
      "Epoch 14/100\n",
      "49/49 [==============================] - 1s 12ms/step - loss: 0.0046 - val_loss: 0.0134\n",
      "Epoch 15/100\n",
      "49/49 [==============================] - 1s 12ms/step - loss: 0.0041 - val_loss: 0.0148\n",
      "Epoch 16/100\n",
      "49/49 [==============================] - 1s 12ms/step - loss: 0.0033 - val_loss: 0.0129\n",
      "Epoch 17/100\n",
      "49/49 [==============================] - 1s 12ms/step - loss: 0.0043 - val_loss: 0.0130\n",
      "Epoch 18/100\n",
      "49/49 [==============================] - 1s 12ms/step - loss: 0.0040 - val_loss: 0.0127\n",
      "Epoch 19/100\n",
      "49/49 [==============================] - 1s 12ms/step - loss: 0.0045 - val_loss: 0.0114\n",
      "Epoch 20/100\n",
      "49/49 [==============================] - 1s 12ms/step - loss: 0.0035 - val_loss: 0.0104\n",
      "Epoch 21/100\n",
      "49/49 [==============================] - 1s 12ms/step - loss: 0.0023 - val_loss: 0.0098\n",
      "Epoch 22/100\n",
      "49/49 [==============================] - 1s 12ms/step - loss: 0.0035 - val_loss: 0.0106\n",
      "Epoch 23/100\n",
      "49/49 [==============================] - 1s 12ms/step - loss: 0.0028 - val_loss: 0.0093\n",
      "Epoch 24/100\n",
      "49/49 [==============================] - 1s 12ms/step - loss: 0.0028 - val_loss: 0.0083\n",
      "Epoch 25/100\n",
      "49/49 [==============================] - 1s 12ms/step - loss: 0.0023 - val_loss: 0.0071\n",
      "Epoch 26/100\n",
      "49/49 [==============================] - 1s 12ms/step - loss: 0.0018 - val_loss: 0.0072\n",
      "Epoch 27/100\n",
      "49/49 [==============================] - 1s 12ms/step - loss: 0.0025 - val_loss: 0.0067\n",
      "Epoch 28/100\n",
      "49/49 [==============================] - 1s 12ms/step - loss: 0.0023 - val_loss: 0.0064\n",
      "Epoch 29/100\n",
      "49/49 [==============================] - 1s 12ms/step - loss: 0.0028 - val_loss: 0.0066\n",
      "Epoch 30/100\n",
      "49/49 [==============================] - 1s 12ms/step - loss: 0.0021 - val_loss: 0.0051\n",
      "Epoch 31/100\n",
      "49/49 [==============================] - 1s 12ms/step - loss: 0.0015 - val_loss: 0.0055\n",
      "Epoch 32/100\n",
      "49/49 [==============================] - 1s 12ms/step - loss: 0.0015 - val_loss: 0.0058\n",
      "Epoch 33/100\n",
      "49/49 [==============================] - 1s 12ms/step - loss: 0.0019 - val_loss: 0.0052\n",
      "Epoch 34/100\n",
      "49/49 [==============================] - 1s 12ms/step - loss: 0.0018 - val_loss: 0.0062\n",
      "Epoch 35/100\n",
      "49/49 [==============================] - 1s 12ms/step - loss: 0.0012 - val_loss: 0.0046\n",
      "Epoch 36/100\n",
      "49/49 [==============================] - 1s 12ms/step - loss: 0.0015 - val_loss: 0.0050\n",
      "Epoch 37/100\n",
      "49/49 [==============================] - 1s 12ms/step - loss: 0.0012 - val_loss: 0.0045\n",
      "Epoch 38/100\n",
      "49/49 [==============================] - 1s 12ms/step - loss: 0.0012 - val_loss: 0.0042\n",
      "Epoch 39/100\n",
      "49/49 [==============================] - 1s 12ms/step - loss: 0.0011 - val_loss: 0.0038\n",
      "Epoch 40/100\n",
      "49/49 [==============================] - 1s 12ms/step - loss: 9.2896e-04 - val_loss: 0.0051\n",
      "Epoch 41/100\n",
      "49/49 [==============================] - 1s 13ms/step - loss: 0.0025 - val_loss: 0.0045\n",
      "Epoch 42/100\n",
      "49/49 [==============================] - 1s 12ms/step - loss: 0.0018 - val_loss: 0.0041\n",
      "Epoch 43/100\n",
      "49/49 [==============================] - 1s 13ms/step - loss: 0.0012 - val_loss: 0.0037\n",
      "Epoch 44/100\n",
      "49/49 [==============================] - 1s 12ms/step - loss: 0.0010 - val_loss: 0.0042\n",
      "Epoch 45/100\n",
      "49/49 [==============================] - 1s 13ms/step - loss: 0.0014 - val_loss: 0.0038\n",
      "Epoch 46/100\n",
      "49/49 [==============================] - 1s 13ms/step - loss: 0.0016 - val_loss: 0.0033\n",
      "Epoch 47/100\n",
      "49/49 [==============================] - 1s 13ms/step - loss: 0.0011 - val_loss: 0.0041\n",
      "Epoch 48/100\n",
      "49/49 [==============================] - 1s 13ms/step - loss: 7.8214e-04 - val_loss: 0.0039\n",
      "Epoch 49/100\n",
      "49/49 [==============================] - 1s 13ms/step - loss: 6.9338e-04 - val_loss: 0.0051\n",
      "Epoch 50/100\n",
      "49/49 [==============================] - 1s 13ms/step - loss: 0.0011 - val_loss: 0.0039\n",
      "Epoch 51/100\n",
      "49/49 [==============================] - 1s 15ms/step - loss: 0.0012 - val_loss: 0.0031\n",
      "Epoch 52/100\n",
      "49/49 [==============================] - 1s 15ms/step - loss: 6.3698e-04 - val_loss: 0.0035\n",
      "Epoch 53/100\n",
      "49/49 [==============================] - 1s 16ms/step - loss: 0.0011 - val_loss: 0.0033\n",
      "Epoch 54/100\n",
      "49/49 [==============================] - 1s 17ms/step - loss: 0.0024 - val_loss: 0.0035\n",
      "Epoch 55/100\n",
      "49/49 [==============================] - 1s 15ms/step - loss: 8.7335e-04 - val_loss: 0.0038\n",
      "Epoch 56/100\n",
      "49/49 [==============================] - 1s 13ms/step - loss: 0.0019 - val_loss: 0.0033\n",
      "Epoch 57/100\n",
      "49/49 [==============================] - 1s 17ms/step - loss: 6.2095e-04 - val_loss: 0.0035\n",
      "Epoch 58/100\n",
      "49/49 [==============================] - 1s 13ms/step - loss: 0.0010 - val_loss: 0.0037\n",
      "Epoch 59/100\n",
      "49/49 [==============================] - 1s 16ms/step - loss: 0.0011 - val_loss: 0.0034\n",
      "Epoch 60/100\n",
      "49/49 [==============================] - 1s 12ms/step - loss: 9.2189e-04 - val_loss: 0.0034\n",
      "Epoch 61/100\n",
      "49/49 [==============================] - 1s 14ms/step - loss: 0.0011 - val_loss: 0.0031\n",
      "Epoch 62/100\n",
      "49/49 [==============================] - 1s 16ms/step - loss: 7.1764e-04 - val_loss: 0.0030\n",
      "Epoch 63/100\n",
      "49/49 [==============================] - 1s 14ms/step - loss: 0.0013 - val_loss: 0.0027\n",
      "Epoch 64/100\n",
      "49/49 [==============================] - 1s 13ms/step - loss: 9.7707e-04 - val_loss: 0.0036\n",
      "Epoch 65/100\n",
      "49/49 [==============================] - 1s 13ms/step - loss: 5.9954e-04 - val_loss: 0.0040\n",
      "Epoch 66/100\n",
      "49/49 [==============================] - 1s 12ms/step - loss: 0.0020 - val_loss: 0.0038\n",
      "Epoch 67/100\n",
      "49/49 [==============================] - 1s 14ms/step - loss: 8.5782e-04 - val_loss: 0.0029\n",
      "Epoch 68/100\n",
      "49/49 [==============================] - 1s 13ms/step - loss: 0.0017 - val_loss: 0.0030\n",
      "Epoch 69/100\n",
      "49/49 [==============================] - 1s 14ms/step - loss: 6.6203e-04 - val_loss: 0.0036\n",
      "Epoch 70/100\n",
      "49/49 [==============================] - 1s 13ms/step - loss: 0.0016 - val_loss: 0.0032\n",
      "Epoch 71/100\n",
      "49/49 [==============================] - 1s 12ms/step - loss: 9.5083e-04 - val_loss: 0.0027\n",
      "Epoch 72/100\n",
      "49/49 [==============================] - 1s 12ms/step - loss: 6.7343e-04 - val_loss: 0.0038\n",
      "Epoch 73/100\n",
      "49/49 [==============================] - 1s 13ms/step - loss: 0.0013 - val_loss: 0.0029\n",
      "Epoch 74/100\n",
      "49/49 [==============================] - 1s 13ms/step - loss: 0.0020 - val_loss: 0.0028\n",
      "Epoch 75/100\n",
      "49/49 [==============================] - 1s 13ms/step - loss: 7.1390e-04 - val_loss: 0.0036\n",
      "Epoch 76/100\n",
      "49/49 [==============================] - 1s 13ms/step - loss: 8.3373e-04 - val_loss: 0.0047\n",
      "Epoch 77/100\n",
      "49/49 [==============================] - 1s 12ms/step - loss: 0.0013 - val_loss: 0.0033\n",
      "Epoch 78/100\n",
      "49/49 [==============================] - 1s 12ms/step - loss: 0.0010 - val_loss: 0.0032\n",
      "Epoch 79/100\n",
      "49/49 [==============================] - 1s 13ms/step - loss: 7.2610e-04 - val_loss: 0.0031\n",
      "Epoch 80/100\n",
      "49/49 [==============================] - 1s 13ms/step - loss: 0.0011 - val_loss: 0.0032\n",
      "Epoch 81/100\n"
     ]
    },
    {
     "name": "stdout",
     "output_type": "stream",
     "text": [
      "49/49 [==============================] - 1s 13ms/step - loss: 9.7712e-04 - val_loss: 0.0042\n",
      "Epoch 82/100\n",
      "49/49 [==============================] - 1s 11ms/step - loss: 0.0014 - val_loss: 0.0033\n",
      "Epoch 83/100\n",
      "49/49 [==============================] - 1s 13ms/step - loss: 6.8809e-04 - val_loss: 0.0030\n",
      "Epoch 84/100\n",
      "49/49 [==============================] - 1s 13ms/step - loss: 0.0014 - val_loss: 0.0028\n",
      "Epoch 85/100\n",
      "49/49 [==============================] - 1s 12ms/step - loss: 0.0010 - val_loss: 0.0037\n",
      "Epoch 86/100\n",
      "49/49 [==============================] - 1s 13ms/step - loss: 0.0010 - val_loss: 0.0026\n",
      "Epoch 87/100\n",
      "49/49 [==============================] - 1s 13ms/step - loss: 0.0020 - val_loss: 0.0031\n",
      "Epoch 88/100\n",
      "49/49 [==============================] - 1s 13ms/step - loss: 0.0023 - val_loss: 0.0030\n",
      "Epoch 89/100\n",
      "49/49 [==============================] - 1s 12ms/step - loss: 0.0011 - val_loss: 0.0028\n",
      "Epoch 90/100\n",
      "49/49 [==============================] - 1s 12ms/step - loss: 0.0012 - val_loss: 0.0034\n",
      "Epoch 91/100\n",
      "49/49 [==============================] - 1s 12ms/step - loss: 9.6120e-04 - val_loss: 0.0035\n",
      "Epoch 92/100\n",
      "49/49 [==============================] - 1s 12ms/step - loss: 9.4207e-04 - val_loss: 0.0029\n",
      "Epoch 93/100\n",
      "49/49 [==============================] - 1s 12ms/step - loss: 6.1197e-04 - val_loss: 0.0037\n",
      "Epoch 94/100\n",
      "49/49 [==============================] - 1s 12ms/step - loss: 0.0011 - val_loss: 0.0034\n",
      "Epoch 95/100\n",
      "49/49 [==============================] - 1s 12ms/step - loss: 9.8875e-04 - val_loss: 0.0034\n",
      "Epoch 96/100\n",
      "49/49 [==============================] - 1s 12ms/step - loss: 0.0013 - val_loss: 0.0030\n",
      "Epoch 97/100\n",
      "49/49 [==============================] - 1s 12ms/step - loss: 0.0012 - val_loss: 0.0039\n",
      "Epoch 98/100\n",
      "49/49 [==============================] - 1s 12ms/step - loss: 6.9458e-04 - val_loss: 0.0045\n",
      "Epoch 99/100\n",
      "49/49 [==============================] - 1s 12ms/step - loss: 9.8655e-04 - val_loss: 0.0029\n",
      "Epoch 100/100\n",
      "49/49 [==============================] - 1s 12ms/step - loss: 0.0011 - val_loss: 0.0031\n",
      "############### Total Time Taken:  1 Minutes #############\n"
     ]
    }
   ],
   "source": [
    "import time\n",
    "# Measuring the time taken by the model to train\n",
    "StartTime=time.time()\n",
    "\n",
    "# Fitting the RNN to the Training set\n",
    "model.fit(X_train, y_train,validation_data=(X_test,y_test), batch_size = 5, epochs = 100,verbose=1)\n",
    "\n",
    "EndTime=time.time()\n",
    "print(\"############### Total Time Taken: \", round((EndTime-StartTime)/60), 'Minutes #############')"
   ]
  },
  {
   "cell_type": "code",
   "execution_count": 67,
   "metadata": {},
   "outputs": [],
   "source": [
    "train_predict=model.predict(X_train)"
   ]
  },
  {
   "cell_type": "code",
   "execution_count": 68,
   "metadata": {
    "scrolled": true
   },
   "outputs": [],
   "source": [
    "test_predict=model.predict(X_test)"
   ]
  },
  {
   "cell_type": "code",
   "execution_count": 69,
   "metadata": {},
   "outputs": [],
   "source": [
    "train_predict=scaler.inverse_transform(train_predict)"
   ]
  },
  {
   "cell_type": "code",
   "execution_count": 70,
   "metadata": {},
   "outputs": [],
   "source": [
    "test_predict=scaler.inverse_transform(test_predict)"
   ]
  },
  {
   "cell_type": "code",
   "execution_count": 72,
   "metadata": {},
   "outputs": [],
   "source": [
    "y_train=scaler.inverse_transform(y_train)"
   ]
  },
  {
   "cell_type": "code",
   "execution_count": 73,
   "metadata": {},
   "outputs": [],
   "source": [
    "y_test=scaler.inverse_transform(y_test)"
   ]
  },
  {
   "cell_type": "raw",
   "metadata": {},
   "source": []
  },
  {
   "cell_type": "markdown",
   "metadata": {},
   "source": [
    "### Measuring the Accuracy of predictions (RMSE)"
   ]
  },
  {
   "cell_type": "code",
   "execution_count": 74,
   "metadata": {},
   "outputs": [
    {
     "data": {
      "text/plain": [
       "13.004850806644363"
      ]
     },
     "execution_count": 74,
     "metadata": {},
     "output_type": "execute_result"
    }
   ],
   "source": [
    "import math\n",
    "from sklearn.metrics import mean_squared_error\n",
    "math.sqrt(mean_squared_error(y_train,train_predict))"
   ]
  },
  {
   "cell_type": "code",
   "execution_count": 75,
   "metadata": {},
   "outputs": [
    {
     "data": {
      "text/plain": [
       "24.147717570312384"
      ]
     },
     "execution_count": 75,
     "metadata": {},
     "output_type": "execute_result"
    }
   ],
   "source": [
    "math.sqrt(mean_squared_error(y_test,test_predict))"
   ]
  },
  {
   "cell_type": "markdown",
   "metadata": {},
   "source": [
    "### Measuring the Accuracy of predictions (MAPE)"
   ]
  },
  {
   "cell_type": "code",
   "execution_count": 76,
   "metadata": {},
   "outputs": [
    {
     "data": {
      "text/plain": [
       "98.88252734806161"
      ]
     },
     "execution_count": 76,
     "metadata": {},
     "output_type": "execute_result"
    }
   ],
   "source": [
    "# Accuracy of the predictions\n",
    "100 - (100*(abs(y_train-train_predict)/y_train)).mean()"
   ]
  },
  {
   "cell_type": "code",
   "execution_count": 77,
   "metadata": {},
   "outputs": [
    {
     "data": {
      "text/plain": [
       "97.56097287845299"
      ]
     },
     "execution_count": 77,
     "metadata": {},
     "output_type": "execute_result"
    }
   ],
   "source": [
    "# Accuracy of the predictions\n",
    "100 - (100*(abs(y_test-test_predict)/y_test)).mean()"
   ]
  },
  {
   "cell_type": "code",
   "execution_count": 78,
   "metadata": {},
   "outputs": [
    {
     "data": {
      "image/png": "[encoded data removed]",
      "text/plain": [
       "<Figure size 432x288 with 1 Axes>"
      ]
     },
     "metadata": {
      "needs_background": "light"
     },
     "output_type": "display_data"
    }
   ],
   "source": [
    "import matplotlib.pyplot as plt\n",
    "### Plotting\n",
    "# shift train prediction for plotting\n",
    "look_back=10\n",
    "trainPredictPlot=np.empty_like(df1)\n",
    "trainPredictPlot[:,:]= np.nan\n",
    "trainPredictPlot[look_back:len(train_predict)+look_back,:]=train_predict\n",
    "# shift test prediction for plotting\n",
    "testPredictPlot=np.empty_like(df1)\n",
    "testPredictPlot[:,:]= np.nan\n",
    "testPredictPlot[len(train_predict)+(look_back*2)+1:len(df1)-1,:]=test_predict\n",
    "# plot baseline and predictions\n",
    "plt.plot(scaler.inverse_transform(df1))\n",
    "plt.plot(trainPredictPlot)\n",
    "plt.plot(testPredictPlot)\n",
    "plt.show()"
   ]
  },
  {
   "cell_type": "code",
   "execution_count": 79,
   "metadata": {},
   "outputs": [
    {
     "data": {
      "text/plain": [
       "137"
      ]
     },
     "execution_count": 79,
     "metadata": {},
     "output_type": "execute_result"
    }
   ],
   "source": [
    "len(test_data)"
   ]
  },
  {
   "cell_type": "code",
   "execution_count": 80,
   "metadata": {},
   "outputs": [
    {
     "data": {
      "text/plain": [
       "(1, 10)"
      ]
     },
     "execution_count": 80,
     "metadata": {},
     "output_type": "execute_result"
    }
   ],
   "source": [
    "x_input=test_data[127:].reshape(1,-1)\n",
    "x_input.shape"
   ]
  },
  {
   "cell_type": "code",
   "execution_count": 81,
   "metadata": {},
   "outputs": [],
   "source": [
    "temp_input=list(x_input)\n",
    "temp_input=temp_input[0].tolist()"
   ]
  },
  {
   "cell_type": "code",
   "execution_count": 82,
   "metadata": {},
   "outputs": [
    {
     "data": {
      "text/plain": [
       "[0.8631989000916589,\n",
       " 0.9345783684692941,\n",
       " 0.94019248395967,\n",
       " 0.8969981668194318,\n",
       " 0.8741979835013749,\n",
       " 0.9083409715857014,\n",
       " 0.9670027497708527,\n",
       " 0.9999999999999998,\n",
       " 0.9800641613198897,\n",
       " 0.9967919340054994]"
      ]
     },
     "execution_count": 82,
     "metadata": {},
     "output_type": "execute_result"
    }
   ],
   "source": [
    "temp_input"
   ]
  },
  {
   "cell_type": "code",
   "execution_count": 83,
   "metadata": {},
   "outputs": [
    {
     "name": "stdout",
     "output_type": "stream",
     "text": [
      "[[0.9973114132881165], [0.9833081364631653], [0.9793674349784851], [0.9781714081764221], [0.9770151972770691], [0.9767161011695862], [0.9765327572822571], [0.9760910868644714], [0.9752358794212341], [0.9742307066917419]]\n"
     ]
    }
   ],
   "source": [
    "# demonstrate prediction for next 10 days\n",
    "from numpy import array\n",
    "\n",
    "first_output=[]\n",
    "n_steps=10\n",
    "i=0\n",
    "while(i<10):\n",
    "    if(len(temp_input)>10):\n",
    "        x_input=np.array(temp_input[1:])\n",
    "#         print(\"{} day input {}\".format(i,x_input))\n",
    "        x_input=x_input.reshape(1,-1)\n",
    "        x_input=x_input.reshape((1,n_steps,1))\n",
    "        yhat=model.predict(x_input,verbose=0)\n",
    "#         print(\"{} day output {}\".format(i,yhat))\n",
    "        temp_input.extend(yhat[0].tolist())\n",
    "        temp_input=temp_input[1:]\n",
    "        first_output.extend(yhat.tolist())\n",
    "        i=i+1\n",
    "    else:\n",
    "        x_input= x_input.reshape((1,n_steps,1))\n",
    "        yhat=model.predict(x_input,verbose=0)\n",
    "#         print(yhat[0])\n",
    "        temp_input.extend(yhat[0].tolist())\n",
    "#         print(len(temp_input))\n",
    "        first_output.extend(yhat.tolist())\n",
    "        i=i+1\n",
    "        \n",
    "print(first_output)"
   ]
  },
  {
   "cell_type": "code",
   "execution_count": 84,
   "metadata": {},
   "outputs": [
    {
     "data": {
      "text/plain": [
       "[[0.9973114132881165],\n",
       " [0.9833081364631653],\n",
       " [0.9793674349784851],\n",
       " [0.9781714081764221],\n",
       " [0.9770151972770691],\n",
       " [0.9767161011695862],\n",
       " [0.9765327572822571],\n",
       " [0.9760910868644714],\n",
       " [0.9752358794212341],\n",
       " [0.9742307066917419]]"
      ]
     },
     "execution_count": 84,
     "metadata": {},
     "output_type": "execute_result"
    }
   ],
   "source": [
    "# first_output=scaler.inverse_transform(first_output)\n",
    "first_output"
   ]
  },
  {
   "cell_type": "code",
   "execution_count": 85,
   "metadata": {},
   "outputs": [
    {
     "data": {
      "text/plain": [
       "(390, 1)"
      ]
     },
     "execution_count": 85,
     "metadata": {},
     "output_type": "execute_result"
    }
   ],
   "source": [
    "df1.shape"
   ]
  },
  {
   "cell_type": "code",
   "execution_count": 86,
   "metadata": {},
   "outputs": [],
   "source": [
    "day_new=np.arange(1,391)\n",
    "day_pred=np.arange(391,401)"
   ]
  },
  {
   "cell_type": "code",
   "execution_count": 87,
   "metadata": {},
   "outputs": [],
   "source": [
    "import matplotlib.pyplot as plt"
   ]
  },
  {
   "cell_type": "code",
   "execution_count": 88,
   "metadata": {},
   "outputs": [
    {
     "data": {
      "text/plain": [
       "[<matplotlib.lines.Line2D at 0x2066d2b3f70>]"
      ]
     },
     "execution_count": 88,
     "metadata": {},
     "output_type": "execute_result"
    },
    {
     "data": {
      "image/png": "[encoded data removed]",
      "text/plain": [
       "<Figure size 432x288 with 1 Axes>"
      ]
     },
     "metadata": {
      "needs_background": "light"
     },
     "output_type": "display_data"
    }
   ],
   "source": [
    "plt.plot(day_new,scaler.inverse_transform(df1))\n",
    "plt.plot(day_pred,scaler.inverse_transform(first_output))"
   ]
  },
  {
   "cell_type": "code",
   "execution_count": 89,
   "metadata": {},
   "outputs": [
    {
     "data": {
      "text/plain": [
       "[<matplotlib.lines.Line2D at 0x20671c201f0>]"
      ]
     },
     "execution_count": 89,
     "metadata": {},
     "output_type": "execute_result"
    },
    {
     "data": {
      "image/png": "[encoded data removed]",
      "text/plain": [
       "<Figure size 432x288 with 1 Axes>"
      ]
     },
     "metadata": {
      "needs_background": "light"
     },
     "output_type": "display_data"
    }
   ],
   "source": [
    "df2=scaler.inverse_transform(df1)\n",
    "df3=df2.tolist()\n",
    "df3.extend(scaler.inverse_transform(first_output))\n",
    "plt.plot(df3)"
   ]
  }
 ],
 "metadata": {
  "kernelspec": {
   "display_name": "Python 3",
   "language": "python",
   "name": "python3"
  },
  "language_info": {
   "codemirror_mode": {
    "name": "ipython",
    "version": 3
   },
   "file_extension": ".py",
   "mimetype": "text/x-python",
   "name": "python",
   "nbconvert_exporter": "python",
   "pygments_lexer": "ipython3",
   "version": "3.8.5"
  }
 },
 "nbformat": 4,
 "nbformat_minor": 4
}
